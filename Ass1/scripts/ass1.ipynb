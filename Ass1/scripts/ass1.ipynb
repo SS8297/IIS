{
 "cells": [
  {
   "cell_type": "markdown",
   "metadata": {},
   "source": [
    "# Assignment 1\n",
    "## Shuai Shao"
   ]
  },
  {
   "cell_type": "code",
   "execution_count": 3,
   "metadata": {},
   "outputs": [],
   "source": [
    "from feat import Detector\n",
    "from feat.plotting import imshow\n",
    "from IPython.display import Image\n",
    "import pandas as pd\n",
    "import cv2\n",
    "from pathlib import Path\n",
    "from functools import reduce\n",
    "import numpy as np\n",
    "import matplotlib.pyplot as plt"
   ]
  },
  {
   "cell_type": "code",
   "execution_count": 33,
   "metadata": {},
   "outputs": [
    {
     "name": "stdout",
     "output_type": "stream",
     "text": [
      "                file   valence\n",
      "0          thumbs-up  positive\n",
      "1            sad-man  negative\n",
      "2              claws  negative\n",
      "3    laughing-couple  positive\n",
      "4         by-the-sea  negative\n",
      "5            arguing  negative\n",
      "6   enjoying-the-sun  positive\n",
      "7          piggyback  positive\n",
      "8           back-off  negative\n",
      "9          handshake  positive\n",
      "10            tablet  negative\n",
      "11         happy-man  positive\n",
      "12         sad-woman  negative\n",
      "13          business  positive\n",
      "14              pain  negative\n",
      "15          students  positive\n",
      "16             bills  negative\n",
      "17           bullied  negative\n",
      "18      disagreement  negative\n",
      "19      grandparents  positive\n"
     ]
    }
   ],
   "source": [
    "df = pd.read_csv(\"../dataset/annotations.csv\")\n",
    "print(df)"
   ]
  },
  {
   "cell_type": "code",
   "execution_count": 8,
   "metadata": {},
   "outputs": [],
   "source": [
    "detector = Detector(face_model=\"retinaface\", au_model = \"xgb\", emotion_model=\"resmasknet\")"
   ]
  },
  {
   "cell_type": "code",
   "execution_count": 64,
   "metadata": {},
   "outputs": [
    {
     "ename": "SyntaxError",
     "evalue": "invalid syntax. Perhaps you forgot a comma? (4034163248.py, line 6)",
     "output_type": "error",
     "traceback": [
      "\u001b[1;36m  Cell \u001b[1;32mIn[64], line 6\u001b[1;36m\u001b[0m\n\u001b[1;33m    cv2.rectangle(img, list(zip(fb['FaceRectX'], fb['FaceRectY'])), list(zip(fb[], fb[])))\u001b[0m\n\u001b[1;37m                                                                             ^\u001b[0m\n\u001b[1;31mSyntaxError\u001b[0m\u001b[1;31m:\u001b[0m invalid syntax. Perhaps you forgot a comma?\n"
     ]
    }
   ],
   "source": [
    "def proc_image(path, detector):\n",
    "\n",
    "    pred = detector.detect_image(path)\n",
    "    img = cv2.imread(path)\n",
    "\n",
    "    fb = pred.faceboxes\n",
    "    x_start = np.floor(fb['FaceRectX'])\n",
    "    y_start = np.floor(fb['FaceRectY'])\n",
    "    cv2.rectangle(img, list(zip(x_start, y_start))), list(zip(np.ceil(fb['FaceRectWidth'])+x_start, np.ceil(fb['FaceRectHeight'])+y_start), color = (0, 0, 255), thickness = 3)\n",
    "\n",
    "    # TODO implement emotion text annotation\n",
    "    # em = pred.emotions\n",
    "    # cv2.putText(image, )\n",
    "\n",
    "    aus = pred.aus\n",
    "    name = Path(path).stem\n",
    "    aus['file'] = name\n",
    "    aus['face'] = range(len(aus))\n",
    "    \n",
    "    return aus\n",
    "\n",
    "reduce((lambda a, b: a.append(b)), list(map(lambda y: proc_image(y, detector), map(lambda x: f\"../dataset/images/{x}.jpg\", df['file'])))).to_csv(\"../processed/aus.csv\", index = False)\n"
   ]
  },
  {
   "cell_type": "code",
   "execution_count": 8,
   "metadata": {},
   "outputs": [
    {
     "ename": "AttributeError",
     "evalue": "module 'cv2' has no attribute 'COLOR_BRG2RGB'",
     "output_type": "error",
     "traceback": [
      "\u001b[1;31m---------------------------------------------------------------------------\u001b[0m",
      "\u001b[1;31mAttributeError\u001b[0m                            Traceback (most recent call last)",
      "\u001b[1;32mc:\\Users\\Shuai Shao\\Documents\\Repositories\\IIS\\Ass1\\scripts\\ass1.ipynb Cell 6\u001b[0m line \u001b[0;36m2\n\u001b[0;32m      <a href='vscode-notebook-cell:/c%3A/Users/Shuai%20Shao/Documents/Repositories/IIS/Ass1/scripts/ass1.ipynb#X11sZmlsZQ%3D%3D?line=0'>1</a>\u001b[0m img \u001b[39m=\u001b[39m cv2\u001b[39m.\u001b[39mimread(\u001b[39m'\u001b[39m\u001b[39m../dataset/images/arguing.jpg\u001b[39m\u001b[39m'\u001b[39m, \u001b[39m0\u001b[39m)\n\u001b[1;32m----> <a href='vscode-notebook-cell:/c%3A/Users/Shuai%20Shao/Documents/Repositories/IIS/Ass1/scripts/ass1.ipynb#X11sZmlsZQ%3D%3D?line=1'>2</a>\u001b[0m plt\u001b[39m.\u001b[39mimshow(cv2\u001b[39m.\u001b[39mcvtColor(img, cv2\u001b[39m.\u001b[39;49mCOLOR_BRG2RGB))\n",
      "\u001b[1;31mAttributeError\u001b[0m: module 'cv2' has no attribute 'COLOR_BRG2RGB'"
     ]
    }
   ],
   "source": [
    "\n",
    "img = cv2.imread('../dataset/images/arguing.jpg', 0)\n",
    "plt.imshow(cv2.cvtColor(img, cv2.COLOR_BRG2))"
   ]
  },
  {
   "cell_type": "markdown",
   "metadata": {},
   "source": [
    "## Reflections\n",
    "### 1.\n",
    "\n",
    "\n",
    "### 2.\n",
    "* I would use backward feature elimination to determine which features yields the best performance increase / lowest performance decrease at the specified number of features. While it may be tempting to choose the AUs with the greatest mean difference between classes, these AUs may be intercorrelated, meaning that using more than one would may provide little to new information gain.\n",
    "* Having too many features can be a problem as the solution space becomes much larger and requires more data in order to train the model, otherwise possibly leading to overfitting, known as the curse of dimensionality."
   ]
  }
 ],
 "metadata": {
  "kernelspec": {
   "display_name": "Python 3",
   "language": "python",
   "name": "python3"
  },
  "language_info": {
   "codemirror_mode": {
    "name": "ipython",
    "version": 3
   },
   "file_extension": ".py",
   "mimetype": "text/x-python",
   "name": "python",
   "nbconvert_exporter": "python",
   "pygments_lexer": "ipython3",
   "version": "3.11.6"
  }
 },
 "nbformat": 4,
 "nbformat_minor": 2
}
