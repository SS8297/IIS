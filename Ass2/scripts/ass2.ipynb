{
 "cells": [
  {
   "cell_type": "code",
   "execution_count": 1,
   "metadata": {},
   "outputs": [],
   "source": [
    "import torch\n",
    "from torch.utils.data import Dataset, DataLoader, random_split\n",
    "import pandas as pd\n",
    "import numpy as np\n",
    "from torch import nn\n",
    "import itertools"
   ]
  },
  {
   "cell_type": "code",
   "execution_count": 116,
   "metadata": {},
   "outputs": [],
   "source": [
    "class MyNeuralNetwork(nn.Module):\n",
    "    def __init__(self, l1 = 100) -> None:\n",
    "        super().__init__()\n",
    "        self.net = nn.Sequential(\n",
    "            nn.Linear(20, l1),\n",
    "            nn.LeakyReLU(),\n",
    "            nn.Linear(l1, 7)\n",
    "        )\n",
    "    \n",
    "    def forward(self, inputs):\n",
    "        return self.net(inputs)"
   ]
  },
  {
   "cell_type": "code",
   "execution_count": 117,
   "metadata": {},
   "outputs": [],
   "source": [
    "class MultiEmoVA(Dataset):\n",
    "    def __init__(self, data_path) -> None:\n",
    "        super().__init__()\n",
    "        data=pd.read_csv(data_path)\n",
    "        if 'emotion' in data:\n",
    "            self.inputs = torch.tensor(data.drop(\"emotion\", axis=1).to_numpy(np.float32))\n",
    "            self.index2label = [label for label in data[\"emotion\"].unique()]\n",
    "            label2index = {label: i for i, label in enumerate(self.index2label)}\n",
    "            self.labels = torch.tensor(data[\"emotion\"].apply(lambda x: label2index[x]))\n",
    "        else:\n",
    "            self.inputs = torch.tensor(data.to_numpy(np.float32))\n",
    "    \n",
    "    def __len__(self):\n",
    "        return len(self.inputs)\n",
    "    \n",
    "    def __getitem__(self, index):\n",
    "        if hasattr(self, 'labels'):\n",
    "            return self.inputs[index], self.labels[index]\n",
    "        else:\n",
    "            return self.inputs[index]\n",
    "    \n",
    "    @staticmethod\n",
    "    def label_dict():\n",
    "        data=pd.read_csv(\"../dataset/dataset.csv\")\n",
    "        return [label for label in data[\"emotion\"].unique()]\n",
    "        "
   ]
  },
  {
   "cell_type": "code",
   "execution_count": 132,
   "metadata": {},
   "outputs": [],
   "source": [
    "def hyper_model(l1, learn):\n",
    "    device = \"cuda\"\n",
    "    data = MultiEmoVA(\"../dataset/dataset.csv\")\n",
    "    unlabeled = MultiEmoVA(\"../dataset/test_to_submit.csv\")\n",
    "\n",
    "    train, val, test = random_split(data, [0.7, 0.2, 0.1])\n",
    "\n",
    "    model = MyNeuralNetwork(l1)\n",
    "\n",
    "\n",
    "    train_loader = DataLoader(train)\n",
    "    val_loader = DataLoader(val)\n",
    "    test_loader = DataLoader(test)\n",
    "\n",
    "    loss_fn = nn.CrossEntropyLoss()\n",
    "    optim = torch.optim.Adam(model.parameters(), lr = learn)\n",
    "\n",
    "    n_epochs = 20\n",
    "\n",
    "    for epoch in range(n_epochs):\n",
    "        for inputs, labels in train_loader:\n",
    "            output = model(inputs)\n",
    "            loss = loss_fn(output, labels)\n",
    "            loss.backward()\n",
    "            optim.step()\n",
    "            optim.zero_grad()\n",
    "\n",
    "        correct = 0\n",
    "        for inputs, labels in val_loader:\n",
    "            output = model(inputs)\n",
    "            correct += (output.softmax(dim=1).argmax(dim=1) == labels).sum()\n",
    "        #print(f\"Validation accuracy is: {correct/len(val)}\")\n",
    "\n",
    "\n",
    "    correct = 0\n",
    "    for inputs, labels, in test_loader:\n",
    "        output = model(inputs)\n",
    "        correct += (output.softmax(dim=1).argmax(dim=1) == labels).sum()\n",
    "    print(f\"Hidden nodes: {l1}, Learning rate {learn}\")\n",
    "    print(f\"Test accuracy is: {correct/len(test)}\")\n",
    "\n",
    "\n",
    "    unlabeled_loader = DataLoader(unlabeled)\n",
    "    out = pd.DataFrame(list(map(lambda x: MultiEmoVA.label_dict()[model(x).softmax(dim=1).argmax(dim=1)], unlabeled_loader)))\n",
    "    out.to_csv('../processed/outputs', index = False, header = False)\n"
   ]
  },
  {
   "cell_type": "code",
   "execution_count": 133,
   "metadata": {},
   "outputs": [
    {
     "name": "stdout",
     "output_type": "stream",
     "text": [
      "Hidden layers: 100, Learning rate 0.001\n",
      "Test accuracy is: 0.6724137663841248\n",
      "Hidden layers: 100, Learning rate 0.005\n",
      "Test accuracy is: 0.5431034564971924\n",
      "Hidden layers: 100, Learning rate 0.01\n",
      "Test accuracy is: 0.6034482717514038\n",
      "Hidden layers: 100, Learning rate 0.05\n",
      "Test accuracy is: 0.47413793206214905\n",
      "Hidden layers: 150, Learning rate 0.001\n",
      "Test accuracy is: 0.5517241358757019\n",
      "Hidden layers: 150, Learning rate 0.005\n",
      "Test accuracy is: 0.5603448152542114\n",
      "Hidden layers: 150, Learning rate 0.01\n",
      "Test accuracy is: 0.6379310488700867\n",
      "Hidden layers: 150, Learning rate 0.05\n",
      "Test accuracy is: 0.4655172526836395\n",
      "Hidden layers: 200, Learning rate 0.001\n",
      "Test accuracy is: 0.6379310488700867\n",
      "Hidden layers: 200, Learning rate 0.005\n",
      "Test accuracy is: 0.5344827771186829\n",
      "Hidden layers: 200, Learning rate 0.01\n",
      "Test accuracy is: 0.568965494632721\n",
      "Hidden layers: 200, Learning rate 0.05\n",
      "Test accuracy is: 0.3965517282485962\n",
      "Hidden layers: 250, Learning rate 0.001\n",
      "Test accuracy is: 0.6465517282485962\n",
      "Hidden layers: 250, Learning rate 0.005\n",
      "Test accuracy is: 0.5517241358757019\n",
      "Hidden layers: 250, Learning rate 0.01\n",
      "Test accuracy is: 0.5948275923728943\n",
      "Hidden layers: 250, Learning rate 0.05\n",
      "Test accuracy is: 0.6551724076271057\n"
     ]
    },
    {
     "data": {
      "text/plain": [
       "list"
      ]
     },
     "execution_count": 133,
     "metadata": {},
     "output_type": "execute_result"
    }
   ],
   "source": [
    "hyperparams = itertools.product([100, 150, 200, 250], [0.001, 0.005, 0.01, 0.05])\n",
    "list(map(lambda x: hyper_model(*x), hyperparams))\n"
   ]
  },
  {
   "cell_type": "code",
   "execution_count": 134,
   "metadata": {},
   "outputs": [
    {
     "name": "stdout",
     "output_type": "stream",
     "text": [
      "Hidden layers: 100, Learning rate 0.001\n",
      "Test accuracy is: 0.6982758641242981\n"
     ]
    },
    {
     "data": {
      "text/plain": [
       "tensor(0.6983)"
      ]
     },
     "execution_count": 134,
     "metadata": {},
     "output_type": "execute_result"
    }
   ],
   "source": [
    "#Generate outputs using best hyperparameters\n",
    "hyper_model(100, 0.001)"
   ]
  }
 ],
 "metadata": {
  "kernelspec": {
   "display_name": "Python 3",
   "language": "python",
   "name": "python3"
  },
  "language_info": {
   "codemirror_mode": {
    "name": "ipython",
    "version": 3
   },
   "file_extension": ".py",
   "mimetype": "text/x-python",
   "name": "python",
   "nbconvert_exporter": "python",
   "pygments_lexer": "ipython3",
   "version": "3.11.6"
  }
 },
 "nbformat": 4,
 "nbformat_minor": 2
}
