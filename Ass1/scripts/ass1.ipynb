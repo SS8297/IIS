{
 "cells": [
  {
   "cell_type": "markdown",
   "metadata": {},
   "source": [
    "# Assignment 1\n",
    "## Shuai Shao"
   ]
  },
  {
   "cell_type": "code",
   "execution_count": 1,
   "metadata": {},
   "outputs": [],
   "source": [
    "from feat import Detector\n",
    "from feat.plotting import imshow\n",
    "from IPython.display import Image\n",
    "import pandas as pd\n",
    "import cv2\n",
    "from pathlib import Path\n",
    "from functools import reduce\n",
    "import numpy as np\n",
    "import matplotlib.pyplot as plt"
   ]
  },
  {
   "cell_type": "code",
   "execution_count": 2,
   "metadata": {},
   "outputs": [
    {
     "name": "stdout",
     "output_type": "stream",
     "text": [
      "                file   valence\n",
      "0          thumbs-up  positive\n",
      "1            sad-man  negative\n",
      "2              claws  negative\n",
      "3    laughing-couple  positive\n",
      "4         by-the-sea  negative\n",
      "5            arguing  negative\n",
      "6   enjoying-the-sun  positive\n",
      "7          piggyback  positive\n",
      "8           back-off  negative\n",
      "9          handshake  positive\n",
      "10            tablet  negative\n",
      "11         happy-man  positive\n",
      "12         sad-woman  negative\n",
      "13          business  positive\n",
      "14              pain  negative\n",
      "15          students  positive\n",
      "16             bills  negative\n",
      "17           bullied  negative\n",
      "18      disagreement  negative\n",
      "19      grandparents  positive\n"
     ]
    }
   ],
   "source": [
    "df = pd.read_csv(\"../dataset/annotations.csv\")\n",
    "print(df)"
   ]
  },
  {
   "cell_type": "code",
   "execution_count": 3,
   "metadata": {},
   "outputs": [],
   "source": [
    "detector = Detector(face_model=\"retinaface\", au_model = \"xgb\", emotion_model=\"resmasknet\")"
   ]
  },
  {
   "cell_type": "code",
   "execution_count": 4,
   "metadata": {},
   "outputs": [
    {
     "name": "stderr",
     "output_type": "stream",
     "text": [
      "100%|██████████| 1/1 [00:03<00:00,  3.36s/it]\n"
     ]
    },
    {
     "name": "stdout",
     "output_type": "stream",
     "text": [
      "0    happiness\n",
      "dtype: object\n",
      "0    578\n",
      "dtype: int32\n"
     ]
    },
    {
     "ename": "error",
     "evalue": "OpenCV(4.8.1) :-1: error: (-5:Bad argument) in function 'putText'\n> Overload resolution failed:\n>  - Can't parse 'org'. Expected sequence length 2, got 1\n>  - Can't parse 'org'. Expected sequence length 2, got 1\n",
     "output_type": "error",
     "traceback": [
      "\u001b[1;31m---------------------------------------------------------------------------\u001b[0m",
      "\u001b[1;31merror\u001b[0m                                     Traceback (most recent call last)",
      "\u001b[1;32mc:\\Users\\Shuai Shao\\Documents\\Repositories\\IIS\\Ass1\\scripts\\ass1.ipynb Cell 5\u001b[0m line \u001b[0;36m3\n\u001b[0;32m     <a href='vscode-notebook-cell:/c%3A/Users/Shuai%20Shao/Documents/Repositories/IIS/Ass1/scripts/ass1.ipynb#W4sZmlsZQ%3D%3D?line=26'>27</a>\u001b[0m     cv2\u001b[39m.\u001b[39mimwrite(\u001b[39mf\u001b[39m\u001b[39m\"\u001b[39m\u001b[39m../processed/images/\u001b[39m\u001b[39m{\u001b[39;00mname\u001b[39m}\u001b[39;00m\u001b[39m.jpg\u001b[39m\u001b[39m\"\u001b[39m, img)\n\u001b[0;32m     <a href='vscode-notebook-cell:/c%3A/Users/Shuai%20Shao/Documents/Repositories/IIS/Ass1/scripts/ass1.ipynb#W4sZmlsZQ%3D%3D?line=27'>28</a>\u001b[0m     \u001b[39mreturn\u001b[39;00m aus\n\u001b[1;32m---> <a href='vscode-notebook-cell:/c%3A/Users/Shuai%20Shao/Documents/Repositories/IIS/Ass1/scripts/ass1.ipynb#W4sZmlsZQ%3D%3D?line=29'>30</a>\u001b[0m all_aus \u001b[39m=\u001b[39m reduce((\u001b[39mlambda\u001b[39;00m a, b: a\u001b[39m.\u001b[39mappend(b)), \u001b[39mlist\u001b[39;49m(\u001b[39mmap\u001b[39;49m(\u001b[39mlambda\u001b[39;49;00m y: proc_image(y, detector), \u001b[39mmap\u001b[39;49m(\u001b[39mlambda\u001b[39;49;00m x: \u001b[39mf\u001b[39;49m\u001b[39m\"\u001b[39;49m\u001b[39m../dataset/images/\u001b[39;49m\u001b[39m{\u001b[39;49;00mx\u001b[39m}\u001b[39;49;00m\u001b[39m.jpg\u001b[39;49m\u001b[39m\"\u001b[39;49m, df[\u001b[39m'\u001b[39;49m\u001b[39mfile\u001b[39;49m\u001b[39m'\u001b[39;49m]))))\n\u001b[0;32m     <a href='vscode-notebook-cell:/c%3A/Users/Shuai%20Shao/Documents/Repositories/IIS/Ass1/scripts/ass1.ipynb#W4sZmlsZQ%3D%3D?line=30'>31</a>\u001b[0m all_aus\u001b[39m.\u001b[39mto_csv(\u001b[39m\"\u001b[39m\u001b[39m../processed/aus.csv\u001b[39m\u001b[39m\"\u001b[39m, index \u001b[39m=\u001b[39m \u001b[39mFalse\u001b[39;00m)\n",
      "\u001b[1;32mc:\\Users\\Shuai Shao\\Documents\\Repositories\\IIS\\Ass1\\scripts\\ass1.ipynb Cell 5\u001b[0m line \u001b[0;36m3\n\u001b[0;32m     <a href='vscode-notebook-cell:/c%3A/Users/Shuai%20Shao/Documents/Repositories/IIS/Ass1/scripts/ass1.ipynb#W4sZmlsZQ%3D%3D?line=26'>27</a>\u001b[0m     cv2\u001b[39m.\u001b[39mimwrite(\u001b[39mf\u001b[39m\u001b[39m\"\u001b[39m\u001b[39m../processed/images/\u001b[39m\u001b[39m{\u001b[39;00mname\u001b[39m}\u001b[39;00m\u001b[39m.jpg\u001b[39m\u001b[39m\"\u001b[39m, img)\n\u001b[0;32m     <a href='vscode-notebook-cell:/c%3A/Users/Shuai%20Shao/Documents/Repositories/IIS/Ass1/scripts/ass1.ipynb#W4sZmlsZQ%3D%3D?line=27'>28</a>\u001b[0m     \u001b[39mreturn\u001b[39;00m aus\n\u001b[1;32m---> <a href='vscode-notebook-cell:/c%3A/Users/Shuai%20Shao/Documents/Repositories/IIS/Ass1/scripts/ass1.ipynb#W4sZmlsZQ%3D%3D?line=29'>30</a>\u001b[0m all_aus \u001b[39m=\u001b[39m reduce((\u001b[39mlambda\u001b[39;00m a, b: a\u001b[39m.\u001b[39mappend(b)), \u001b[39mlist\u001b[39m(\u001b[39mmap\u001b[39m(\u001b[39mlambda\u001b[39;00m y: proc_image(y, detector), \u001b[39mmap\u001b[39m(\u001b[39mlambda\u001b[39;00m x: \u001b[39mf\u001b[39m\u001b[39m\"\u001b[39m\u001b[39m../dataset/images/\u001b[39m\u001b[39m{\u001b[39;00mx\u001b[39m}\u001b[39;00m\u001b[39m.jpg\u001b[39m\u001b[39m\"\u001b[39m, df[\u001b[39m'\u001b[39m\u001b[39mfile\u001b[39m\u001b[39m'\u001b[39m]))))\n\u001b[0;32m     <a href='vscode-notebook-cell:/c%3A/Users/Shuai%20Shao/Documents/Repositories/IIS/Ass1/scripts/ass1.ipynb#W4sZmlsZQ%3D%3D?line=30'>31</a>\u001b[0m all_aus\u001b[39m.\u001b[39mto_csv(\u001b[39m\"\u001b[39m\u001b[39m../processed/aus.csv\u001b[39m\u001b[39m\"\u001b[39m, index \u001b[39m=\u001b[39m \u001b[39mFalse\u001b[39;00m)\n",
      "\u001b[1;32mc:\\Users\\Shuai Shao\\Documents\\Repositories\\IIS\\Ass1\\scripts\\ass1.ipynb Cell 5\u001b[0m line \u001b[0;36m1\n\u001b[0;32m     <a href='vscode-notebook-cell:/c%3A/Users/Shuai%20Shao/Documents/Repositories/IIS/Ass1/scripts/ass1.ipynb#W4sZmlsZQ%3D%3D?line=16'>17</a>\u001b[0m \u001b[39mfor\u001b[39;00m start, end, label \u001b[39min\u001b[39;00m \u001b[39mzip\u001b[39m(start_points, end_points, em_label):\n\u001b[0;32m     <a href='vscode-notebook-cell:/c%3A/Users/Shuai%20Shao/Documents/Repositories/IIS/Ass1/scripts/ass1.ipynb#W4sZmlsZQ%3D%3D?line=17'>18</a>\u001b[0m     img \u001b[39m=\u001b[39m cv2\u001b[39m.\u001b[39mrectangle(img, start, end, color \u001b[39m=\u001b[39m (\u001b[39m0\u001b[39m, \u001b[39m0\u001b[39m, \u001b[39m255\u001b[39m), thickness \u001b[39m=\u001b[39m \u001b[39m3\u001b[39m)\n\u001b[1;32m---> <a href='vscode-notebook-cell:/c%3A/Users/Shuai%20Shao/Documents/Repositories/IIS/Ass1/scripts/ass1.ipynb#W4sZmlsZQ%3D%3D?line=18'>19</a>\u001b[0m     cv2\u001b[39m.\u001b[39;49mputText(img, label, x_start \u001b[39m-\u001b[39;49m \u001b[39m10\u001b[39;49m, y_start \u001b[39m-\u001b[39;49m \u001b[39m10\u001b[39;49m, color \u001b[39m=\u001b[39;49m (\u001b[39m0\u001b[39;49m, \u001b[39m0\u001b[39;49m, \u001b[39m255\u001b[39;49m), thickness \u001b[39m=\u001b[39;49m \u001b[39m2\u001b[39;49m, fontScale \u001b[39m=\u001b[39;49m \u001b[39m1\u001b[39;49m)\n\u001b[0;32m     <a href='vscode-notebook-cell:/c%3A/Users/Shuai%20Shao/Documents/Repositories/IIS/Ass1/scripts/ass1.ipynb#W4sZmlsZQ%3D%3D?line=20'>21</a>\u001b[0m aus \u001b[39m=\u001b[39m pred\u001b[39m.\u001b[39maus\n\u001b[0;32m     <a href='vscode-notebook-cell:/c%3A/Users/Shuai%20Shao/Documents/Repositories/IIS/Ass1/scripts/ass1.ipynb#W4sZmlsZQ%3D%3D?line=21'>22</a>\u001b[0m name \u001b[39m=\u001b[39m Path(path)\u001b[39m.\u001b[39mstem\n",
      "\u001b[1;31merror\u001b[0m: OpenCV(4.8.1) :-1: error: (-5:Bad argument) in function 'putText'\n> Overload resolution failed:\n>  - Can't parse 'org'. Expected sequence length 2, got 1\n>  - Can't parse 'org'. Expected sequence length 2, got 1\n"
     ]
    }
   ],
   "source": [
    "def proc_image(path, detector):\n",
    "\n",
    "    pred = detector.detect_image(path)\n",
    "    img = cv2.imread(path)\n",
    "\n",
    "    fb = pred.faceboxes\n",
    "    em = pred.emotions\n",
    "    em_label = em.idxmax(axis=1)\n",
    "    print(em_label) \n",
    "\n",
    "    x_start = np.floor(fb['FaceRectX']).astype('int')\n",
    "    y_start = np.floor(fb['FaceRectY']).astype('int')\n",
    "    print(x_start)\n",
    "    start_points = list(zip(x_start, y_start))\n",
    "    end_points = list(zip((np.ceil(fb['FaceRectWidth']).astype('int')+x_start), (np.ceil(fb['FaceRectHeight']).astype('int')+y_start)))\n",
    "    \n",
    "    for start, end, label in zip(start_points, end_points, em_label):\n",
    "        img = cv2.rectangle(img, start, end, color = (0, 0, 255), thickness = 3)\n",
    "        cv2.putText(img, label, x_start - 10, y_start - 10, color = (0, 0, 255), thickness = 2, fontScale = 1)\n",
    "\n",
    "    aus = pred.aus\n",
    "    name = Path(path).stem\n",
    "    aus['file'] = name\n",
    "    aus['face'] = aus.index\n",
    "    \n",
    "\n",
    "    cv2.imwrite(f\"../processed/images/{name}.jpg\", img)\n",
    "    return aus\n",
    "\n",
    "all_aus = reduce((lambda a, b: a.append(b)), list(map(lambda y: proc_image(y, detector), map(lambda x: f\"../dataset/images/{x}.jpg\", df['file']))))\n",
    "all_aus.to_csv(\"../processed/aus.csv\", index = False)"
   ]
  },
  {
   "cell_type": "code",
   "execution_count": 134,
   "metadata": {},
   "outputs": [
    {
     "data": {
      "text/plain": [
       "['anger', 'anger']"
      ]
     },
     "execution_count": 134,
     "metadata": {},
     "output_type": "execute_result"
    }
   ],
   "source": [
    "\n",
    "em = pred.emotions\n",
    "test = em.idxmax(axis=1)\n",
    "list(test)\n"
   ]
  },
  {
   "cell_type": "code",
   "execution_count": 114,
   "metadata": {},
   "outputs": [
    {
     "data": {
      "image/png": "[encoded data removed]",
      "text/plain": [
       "<Figure size 640x480 with 1 Axes>"
      ]
     },
     "metadata": {},
     "output_type": "display_data"
    }
   ],
   "source": [
    "ann_aus = pd.merge(df, all_aus, on='file', how  = 'inner')\n",
    "\n",
    "pos = ann_aus.loc[ann_aus['valence']=='positive']\n",
    "pos_aus = pos.drop(['file', 'valence','face'], axis=1).mean()\n",
    "\n",
    "neg = ann_aus.loc[ann_aus['valence']=='negative']\n",
    "neg_aus = neg.drop(['file', 'valence','face'], axis=1).mean()\n",
    "\n",
    "diff = np.abs(pos_aus-neg_aus)\n",
    "diff = pd.Series.sort_values(diff, ascending = False)\n",
    "\n",
    "plt.scatter(diff.index, diff)\n",
    "plt.tick_params(axis=\"x\", labelsize=12, rotation = 90)\n",
    "plt.savefig(\"../processed/au_visualization.png\")"
   ]
  },
  {
   "cell_type": "markdown",
   "metadata": {},
   "source": [
    "## Reflections\n",
    "### 1.\n",
    "* \n",
    "* The facial detection failed when heads were oriented at extreme angles or occluded by objects such as a hand, it also yielded a false positive due to the background pattern.\n",
    "* When the head is turned completely away from the viewer a human would not be able to identify emotions effectively either.\n",
    "\n",
    "### 2.\n",
    "* I would use backward feature elimination to determine which features yields the best performance increase / lowest performance decrease at the specified number of features. While it may be tempting to choose the AUs with the greatest mean difference between classes, these AUs may be intercorrelated, meaning that using more than one would may provide little to new information gain.\n",
    "* Having too many features can be a problem as the solution space becomes much larger and requires more data in order to train the model, otherwise possibly leading to overfitting, known as the curse of dimensionality."
   ]
  }
 ],
 "metadata": {
  "kernelspec": {
   "display_name": "Python 3",
   "language": "python",
   "name": "python3"
  },
  "language_info": {
   "codemirror_mode": {
    "name": "ipython",
    "version": 3
   },
   "file_extension": ".py",
   "mimetype": "text/x-python",
   "name": "python",
   "nbconvert_exporter": "python",
   "pygments_lexer": "ipython3",
   "version": "3.11.6"
  }
 },
 "nbformat": 4,
 "nbformat_minor": 2
}
