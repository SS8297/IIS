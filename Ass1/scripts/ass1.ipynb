{
 "cells": [
  {
   "cell_type": "markdown",
   "metadata": {},
   "source": [
    "# Assignment 1\n",
    "## Shuai Shao"
   ]
  },
  {
   "cell_type": "code",
   "execution_count": 17,
   "metadata": {},
   "outputs": [],
   "source": [
    "from feat import Detector\n",
    "from feat.plotting import imshow\n",
    "from IPython.display import Image\n",
    "import pandas as pd\n",
    "import cv2\n",
    "from pathlib import Path\n",
    "from functools import reduce\n",
    "import numpy as np\n",
    "import matplotlib.pyplot as plt"
   ]
  },
  {
   "cell_type": "code",
   "execution_count": 18,
   "metadata": {},
   "outputs": [
    {
     "name": "stdout",
     "output_type": "stream",
     "text": [
      "                file   valence\n",
      "0          thumbs-up  positive\n",
      "1            sad-man  negative\n",
      "2              claws  negative\n",
      "3    laughing-couple  positive\n",
      "4         by-the-sea  negative\n",
      "5            arguing  negative\n",
      "6   enjoying-the-sun  positive\n",
      "7          piggyback  positive\n",
      "8           back-off  negative\n",
      "9          handshake  positive\n",
      "10            tablet  negative\n",
      "11         happy-man  positive\n",
      "12         sad-woman  negative\n",
      "13          business  positive\n",
      "14              pain  negative\n",
      "15          students  positive\n",
      "16             bills  negative\n",
      "17           bullied  negative\n",
      "18      disagreement  negative\n",
      "19      grandparents  positive\n"
     ]
    }
   ],
   "source": [
    "df = pd.read_csv(\"../dataset/annotations.csv\")\n",
    "print(df)"
   ]
  },
  {
   "cell_type": "code",
   "execution_count": 19,
   "metadata": {},
   "outputs": [],
   "source": [
    "detector = Detector(face_model=\"retinaface\", au_model = \"xgb\", emotion_model=\"resmasknet\")"
   ]
  },
  {
   "cell_type": "code",
   "execution_count": 29,
   "metadata": {},
   "outputs": [
    {
     "name": "stderr",
     "output_type": "stream",
     "text": [
      "100%|██████████| 1/1 [00:02<00:00,  2.31s/it]\n",
      "C:\\Users\\Shuai Shao\\AppData\\Local\\Temp\\ipykernel_2924\\1233291829.py:24: SettingWithCopyWarning: \n",
      "A value is trying to be set on a copy of a slice from a DataFrame.\n",
      "Try using .loc[row_indexer,col_indexer] = value instead\n",
      "\n",
      "See the caveats in the documentation: https://pandas.pydata.org/pandas-docs/stable/user_guide/indexing.html#returning-a-view-versus-a-copy\n",
      "  aus['file'] = name\n",
      "C:\\Users\\Shuai Shao\\AppData\\Local\\Temp\\ipykernel_2924\\1233291829.py:25: SettingWithCopyWarning: \n",
      "A value is trying to be set on a copy of a slice from a DataFrame.\n",
      "Try using .loc[row_indexer,col_indexer] = value instead\n",
      "\n",
      "See the caveats in the documentation: https://pandas.pydata.org/pandas-docs/stable/user_guide/indexing.html#returning-a-view-versus-a-copy\n",
      "  aus['face'] = range(len(aus))\n"
     ]
    },
    {
     "name": "stdout",
     "output_type": "stream",
     "text": [
      "(578, 73)\n",
      "(707, 255)\n"
     ]
    },
    {
     "name": "stderr",
     "output_type": "stream",
     "text": [
      "100%|██████████| 1/1 [00:02<00:00,  2.24s/it]\n",
      "C:\\Users\\Shuai Shao\\AppData\\Local\\Temp\\ipykernel_2924\\1233291829.py:24: SettingWithCopyWarning: \n",
      "A value is trying to be set on a copy of a slice from a DataFrame.\n",
      "Try using .loc[row_indexer,col_indexer] = value instead\n",
      "\n",
      "See the caveats in the documentation: https://pandas.pydata.org/pandas-docs/stable/user_guide/indexing.html#returning-a-view-versus-a-copy\n",
      "  aus['file'] = name\n",
      "C:\\Users\\Shuai Shao\\AppData\\Local\\Temp\\ipykernel_2924\\1233291829.py:25: SettingWithCopyWarning: \n",
      "A value is trying to be set on a copy of a slice from a DataFrame.\n",
      "Try using .loc[row_indexer,col_indexer] = value instead\n",
      "\n",
      "See the caveats in the documentation: https://pandas.pydata.org/pandas-docs/stable/user_guide/indexing.html#returning-a-view-versus-a-copy\n",
      "  aus['face'] = range(len(aus))\n"
     ]
    },
    {
     "name": "stdout",
     "output_type": "stream",
     "text": [
      "(331, 328)\n",
      "(426, 453)\n"
     ]
    },
    {
     "name": "stderr",
     "output_type": "stream",
     "text": [
      "100%|██████████| 1/1 [00:02<00:00,  2.82s/it]\n",
      "C:\\Users\\Shuai Shao\\AppData\\Local\\Temp\\ipykernel_2924\\1233291829.py:24: SettingWithCopyWarning: \n",
      "A value is trying to be set on a copy of a slice from a DataFrame.\n",
      "Try using .loc[row_indexer,col_indexer] = value instead\n",
      "\n",
      "See the caveats in the documentation: https://pandas.pydata.org/pandas-docs/stable/user_guide/indexing.html#returning-a-view-versus-a-copy\n",
      "  aus['file'] = name\n",
      "C:\\Users\\Shuai Shao\\AppData\\Local\\Temp\\ipykernel_2924\\1233291829.py:25: SettingWithCopyWarning: \n",
      "A value is trying to be set on a copy of a slice from a DataFrame.\n",
      "Try using .loc[row_indexer,col_indexer] = value instead\n",
      "\n",
      "See the caveats in the documentation: https://pandas.pydata.org/pandas-docs/stable/user_guide/indexing.html#returning-a-view-versus-a-copy\n",
      "  aus['face'] = range(len(aus))\n"
     ]
    },
    {
     "name": "stdout",
     "output_type": "stream",
     "text": [
      "(418, 149)\n",
      "(555, 353)\n"
     ]
    },
    {
     "name": "stderr",
     "output_type": "stream",
     "text": [
      "100%|██████████| 1/1 [00:03<00:00,  3.31s/it]\n",
      "C:\\Users\\Shuai Shao\\AppData\\Local\\Temp\\ipykernel_2924\\1233291829.py:24: SettingWithCopyWarning: \n",
      "A value is trying to be set on a copy of a slice from a DataFrame.\n",
      "Try using .loc[row_indexer,col_indexer] = value instead\n",
      "\n",
      "See the caveats in the documentation: https://pandas.pydata.org/pandas-docs/stable/user_guide/indexing.html#returning-a-view-versus-a-copy\n",
      "  aus['file'] = name\n",
      "C:\\Users\\Shuai Shao\\AppData\\Local\\Temp\\ipykernel_2924\\1233291829.py:25: SettingWithCopyWarning: \n",
      "A value is trying to be set on a copy of a slice from a DataFrame.\n",
      "Try using .loc[row_indexer,col_indexer] = value instead\n",
      "\n",
      "See the caveats in the documentation: https://pandas.pydata.org/pandas-docs/stable/user_guide/indexing.html#returning-a-view-versus-a-copy\n",
      "  aus['face'] = range(len(aus))\n"
     ]
    },
    {
     "name": "stdout",
     "output_type": "stream",
     "text": [
      "(318, 373)\n",
      "(521, 628)\n",
      "(398, -2)\n",
      "(541, 147)\n",
      "(108, 307)\n",
      "(303, 576)\n"
     ]
    },
    {
     "name": "stderr",
     "output_type": "stream",
     "text": [
      "100%|██████████| 1/1 [00:03<00:00,  3.12s/it]\n",
      "C:\\Users\\Shuai Shao\\AppData\\Local\\Temp\\ipykernel_2924\\1233291829.py:24: SettingWithCopyWarning: \n",
      "A value is trying to be set on a copy of a slice from a DataFrame.\n",
      "Try using .loc[row_indexer,col_indexer] = value instead\n",
      "\n",
      "See the caveats in the documentation: https://pandas.pydata.org/pandas-docs/stable/user_guide/indexing.html#returning-a-view-versus-a-copy\n",
      "  aus['file'] = name\n",
      "C:\\Users\\Shuai Shao\\AppData\\Local\\Temp\\ipykernel_2924\\1233291829.py:25: SettingWithCopyWarning: \n",
      "A value is trying to be set on a copy of a slice from a DataFrame.\n",
      "Try using .loc[row_indexer,col_indexer] = value instead\n",
      "\n",
      "See the caveats in the documentation: https://pandas.pydata.org/pandas-docs/stable/user_guide/indexing.html#returning-a-view-versus-a-copy\n",
      "  aus['face'] = range(len(aus))\n"
     ]
    },
    {
     "name": "stdout",
     "output_type": "stream",
     "text": [
      "(144, 485)\n",
      "(194, 541)\n",
      "(453, 411)\n",
      "(490, 469)\n"
     ]
    },
    {
     "name": "stderr",
     "output_type": "stream",
     "text": [
      "100%|██████████| 1/1 [00:03<00:00,  3.29s/it]\n",
      "C:\\Users\\Shuai Shao\\AppData\\Local\\Temp\\ipykernel_2924\\1233291829.py:24: SettingWithCopyWarning: \n",
      "A value is trying to be set on a copy of a slice from a DataFrame.\n",
      "Try using .loc[row_indexer,col_indexer] = value instead\n",
      "\n",
      "See the caveats in the documentation: https://pandas.pydata.org/pandas-docs/stable/user_guide/indexing.html#returning-a-view-versus-a-copy\n",
      "  aus['file'] = name\n",
      "C:\\Users\\Shuai Shao\\AppData\\Local\\Temp\\ipykernel_2924\\1233291829.py:25: SettingWithCopyWarning: \n",
      "A value is trying to be set on a copy of a slice from a DataFrame.\n",
      "Try using .loc[row_indexer,col_indexer] = value instead\n",
      "\n",
      "See the caveats in the documentation: https://pandas.pydata.org/pandas-docs/stable/user_guide/indexing.html#returning-a-view-versus-a-copy\n",
      "  aus['face'] = range(len(aus))\n"
     ]
    },
    {
     "name": "stdout",
     "output_type": "stream",
     "text": [
      "(269, 143)\n",
      "(422, 355)\n",
      "(648, 224)\n",
      "(730, 333)\n"
     ]
    },
    {
     "name": "stderr",
     "output_type": "stream",
     "text": [
      "100%|██████████| 1/1 [00:02<00:00,  2.65s/it]\n",
      "C:\\Users\\Shuai Shao\\AppData\\Local\\Temp\\ipykernel_2924\\1233291829.py:24: SettingWithCopyWarning: \n",
      "A value is trying to be set on a copy of a slice from a DataFrame.\n",
      "Try using .loc[row_indexer,col_indexer] = value instead\n",
      "\n",
      "See the caveats in the documentation: https://pandas.pydata.org/pandas-docs/stable/user_guide/indexing.html#returning-a-view-versus-a-copy\n",
      "  aus['file'] = name\n",
      "C:\\Users\\Shuai Shao\\AppData\\Local\\Temp\\ipykernel_2924\\1233291829.py:25: SettingWithCopyWarning: \n",
      "A value is trying to be set on a copy of a slice from a DataFrame.\n",
      "Try using .loc[row_indexer,col_indexer] = value instead\n",
      "\n",
      "See the caveats in the documentation: https://pandas.pydata.org/pandas-docs/stable/user_guide/indexing.html#returning-a-view-versus-a-copy\n",
      "  aus['face'] = range(len(aus))\n"
     ]
    },
    {
     "name": "stdout",
     "output_type": "stream",
     "text": [
      "(504, 153)\n",
      "(571, 237)\n"
     ]
    },
    {
     "name": "stderr",
     "output_type": "stream",
     "text": [
      "100%|██████████| 1/1 [00:03<00:00,  3.43s/it]\n",
      "C:\\Users\\Shuai Shao\\AppData\\Local\\Temp\\ipykernel_2924\\1233291829.py:24: SettingWithCopyWarning: \n",
      "A value is trying to be set on a copy of a slice from a DataFrame.\n",
      "Try using .loc[row_indexer,col_indexer] = value instead\n",
      "\n",
      "See the caveats in the documentation: https://pandas.pydata.org/pandas-docs/stable/user_guide/indexing.html#returning-a-view-versus-a-copy\n",
      "  aus['file'] = name\n",
      "C:\\Users\\Shuai Shao\\AppData\\Local\\Temp\\ipykernel_2924\\1233291829.py:25: SettingWithCopyWarning: \n",
      "A value is trying to be set on a copy of a slice from a DataFrame.\n",
      "Try using .loc[row_indexer,col_indexer] = value instead\n",
      "\n",
      "See the caveats in the documentation: https://pandas.pydata.org/pandas-docs/stable/user_guide/indexing.html#returning-a-view-versus-a-copy\n",
      "  aus['face'] = range(len(aus))\n"
     ]
    },
    {
     "name": "stdout",
     "output_type": "stream",
     "text": [
      "(285, 206)\n",
      "(409, 367)\n",
      "(449, 129)\n",
      "(540, 253)\n"
     ]
    },
    {
     "name": "stderr",
     "output_type": "stream",
     "text": [
      "100%|██████████| 1/1 [00:04<00:00,  4.41s/it]\n",
      "C:\\Users\\Shuai Shao\\AppData\\Local\\Temp\\ipykernel_2924\\1233291829.py:24: SettingWithCopyWarning: \n",
      "A value is trying to be set on a copy of a slice from a DataFrame.\n",
      "Try using .loc[row_indexer,col_indexer] = value instead\n",
      "\n",
      "See the caveats in the documentation: https://pandas.pydata.org/pandas-docs/stable/user_guide/indexing.html#returning-a-view-versus-a-copy\n",
      "  aus['file'] = name\n",
      "C:\\Users\\Shuai Shao\\AppData\\Local\\Temp\\ipykernel_2924\\1233291829.py:25: SettingWithCopyWarning: \n",
      "A value is trying to be set on a copy of a slice from a DataFrame.\n",
      "Try using .loc[row_indexer,col_indexer] = value instead\n",
      "\n",
      "See the caveats in the documentation: https://pandas.pydata.org/pandas-docs/stable/user_guide/indexing.html#returning-a-view-versus-a-copy\n",
      "  aus['face'] = range(len(aus))\n"
     ]
    },
    {
     "name": "stdout",
     "output_type": "stream",
     "text": [
      "(492, 85)\n",
      "(587, 211)\n"
     ]
    },
    {
     "name": "stderr",
     "output_type": "stream",
     "text": [
      "100%|██████████| 1/1 [00:04<00:00,  4.01s/it]\n",
      "C:\\Users\\Shuai Shao\\AppData\\Local\\Temp\\ipykernel_2924\\1233291829.py:24: SettingWithCopyWarning: \n",
      "A value is trying to be set on a copy of a slice from a DataFrame.\n",
      "Try using .loc[row_indexer,col_indexer] = value instead\n",
      "\n",
      "See the caveats in the documentation: https://pandas.pydata.org/pandas-docs/stable/user_guide/indexing.html#returning-a-view-versus-a-copy\n",
      "  aus['file'] = name\n",
      "C:\\Users\\Shuai Shao\\AppData\\Local\\Temp\\ipykernel_2924\\1233291829.py:25: SettingWithCopyWarning: \n",
      "A value is trying to be set on a copy of a slice from a DataFrame.\n",
      "Try using .loc[row_indexer,col_indexer] = value instead\n",
      "\n",
      "See the caveats in the documentation: https://pandas.pydata.org/pandas-docs/stable/user_guide/indexing.html#returning-a-view-versus-a-copy\n",
      "  aus['face'] = range(len(aus))\n"
     ]
    },
    {
     "name": "stdout",
     "output_type": "stream",
     "text": [
      "(221, 189)\n",
      "(288, 282)\n",
      "(437, 124)\n",
      "(523, 234)\n",
      "(66, 138)\n",
      "(143, 254)\n"
     ]
    },
    {
     "name": "stderr",
     "output_type": "stream",
     "text": [
      "100%|██████████| 1/1 [00:02<00:00,  2.74s/it]\n",
      "C:\\Users\\Shuai Shao\\AppData\\Local\\Temp\\ipykernel_2924\\1233291829.py:24: SettingWithCopyWarning: \n",
      "A value is trying to be set on a copy of a slice from a DataFrame.\n",
      "Try using .loc[row_indexer,col_indexer] = value instead\n",
      "\n",
      "See the caveats in the documentation: https://pandas.pydata.org/pandas-docs/stable/user_guide/indexing.html#returning-a-view-versus-a-copy\n",
      "  aus['file'] = name\n",
      "C:\\Users\\Shuai Shao\\AppData\\Local\\Temp\\ipykernel_2924\\1233291829.py:25: SettingWithCopyWarning: \n",
      "A value is trying to be set on a copy of a slice from a DataFrame.\n",
      "Try using .loc[row_indexer,col_indexer] = value instead\n",
      "\n",
      "See the caveats in the documentation: https://pandas.pydata.org/pandas-docs/stable/user_guide/indexing.html#returning-a-view-versus-a-copy\n",
      "  aus['face'] = range(len(aus))\n"
     ]
    },
    {
     "name": "stdout",
     "output_type": "stream",
     "text": [
      "(608, 101)\n",
      "(716, 256)\n"
     ]
    },
    {
     "name": "stderr",
     "output_type": "stream",
     "text": [
      "100%|██████████| 1/1 [00:02<00:00,  2.39s/it]\n",
      "C:\\Users\\Shuai Shao\\AppData\\Local\\Temp\\ipykernel_2924\\1233291829.py:24: SettingWithCopyWarning: \n",
      "A value is trying to be set on a copy of a slice from a DataFrame.\n",
      "Try using .loc[row_indexer,col_indexer] = value instead\n",
      "\n",
      "See the caveats in the documentation: https://pandas.pydata.org/pandas-docs/stable/user_guide/indexing.html#returning-a-view-versus-a-copy\n",
      "  aus['file'] = name\n",
      "C:\\Users\\Shuai Shao\\AppData\\Local\\Temp\\ipykernel_2924\\1233291829.py:25: SettingWithCopyWarning: \n",
      "A value is trying to be set on a copy of a slice from a DataFrame.\n",
      "Try using .loc[row_indexer,col_indexer] = value instead\n",
      "\n",
      "See the caveats in the documentation: https://pandas.pydata.org/pandas-docs/stable/user_guide/indexing.html#returning-a-view-versus-a-copy\n",
      "  aus['face'] = range(len(aus))\n"
     ]
    },
    {
     "name": "stdout",
     "output_type": "stream",
     "text": [
      "(540, 114)\n",
      "(673, 287)\n"
     ]
    },
    {
     "name": "stderr",
     "output_type": "stream",
     "text": [
      "100%|██████████| 1/1 [00:02<00:00,  2.50s/it]\n",
      "C:\\Users\\Shuai Shao\\AppData\\Local\\Temp\\ipykernel_2924\\1233291829.py:24: SettingWithCopyWarning: \n",
      "A value is trying to be set on a copy of a slice from a DataFrame.\n",
      "Try using .loc[row_indexer,col_indexer] = value instead\n",
      "\n",
      "See the caveats in the documentation: https://pandas.pydata.org/pandas-docs/stable/user_guide/indexing.html#returning-a-view-versus-a-copy\n",
      "  aus['file'] = name\n",
      "C:\\Users\\Shuai Shao\\AppData\\Local\\Temp\\ipykernel_2924\\1233291829.py:25: SettingWithCopyWarning: \n",
      "A value is trying to be set on a copy of a slice from a DataFrame.\n",
      "Try using .loc[row_indexer,col_indexer] = value instead\n",
      "\n",
      "See the caveats in the documentation: https://pandas.pydata.org/pandas-docs/stable/user_guide/indexing.html#returning-a-view-versus-a-copy\n",
      "  aus['face'] = range(len(aus))\n"
     ]
    },
    {
     "name": "stdout",
     "output_type": "stream",
     "text": [
      "(433, 160)\n",
      "(589, 353)\n"
     ]
    },
    {
     "name": "stderr",
     "output_type": "stream",
     "text": [
      "100%|██████████| 1/1 [00:02<00:00,  2.98s/it]\n",
      "C:\\Users\\Shuai Shao\\AppData\\Local\\Temp\\ipykernel_2924\\1233291829.py:24: SettingWithCopyWarning: \n",
      "A value is trying to be set on a copy of a slice from a DataFrame.\n",
      "Try using .loc[row_indexer,col_indexer] = value instead\n",
      "\n",
      "See the caveats in the documentation: https://pandas.pydata.org/pandas-docs/stable/user_guide/indexing.html#returning-a-view-versus-a-copy\n",
      "  aus['file'] = name\n",
      "C:\\Users\\Shuai Shao\\AppData\\Local\\Temp\\ipykernel_2924\\1233291829.py:25: SettingWithCopyWarning: \n",
      "A value is trying to be set on a copy of a slice from a DataFrame.\n",
      "Try using .loc[row_indexer,col_indexer] = value instead\n",
      "\n",
      "See the caveats in the documentation: https://pandas.pydata.org/pandas-docs/stable/user_guide/indexing.html#returning-a-view-versus-a-copy\n",
      "  aus['face'] = range(len(aus))\n"
     ]
    },
    {
     "name": "stdout",
     "output_type": "stream",
     "text": [
      "(378, 402)\n",
      "(523, 600)\n"
     ]
    },
    {
     "name": "stderr",
     "output_type": "stream",
     "text": [
      "100%|██████████| 1/1 [00:03<00:00,  3.02s/it]\n",
      "C:\\Users\\Shuai Shao\\AppData\\Local\\Temp\\ipykernel_2924\\1233291829.py:24: SettingWithCopyWarning: \n",
      "A value is trying to be set on a copy of a slice from a DataFrame.\n",
      "Try using .loc[row_indexer,col_indexer] = value instead\n",
      "\n",
      "See the caveats in the documentation: https://pandas.pydata.org/pandas-docs/stable/user_guide/indexing.html#returning-a-view-versus-a-copy\n",
      "  aus['file'] = name\n",
      "C:\\Users\\Shuai Shao\\AppData\\Local\\Temp\\ipykernel_2924\\1233291829.py:25: SettingWithCopyWarning: \n",
      "A value is trying to be set on a copy of a slice from a DataFrame.\n",
      "Try using .loc[row_indexer,col_indexer] = value instead\n",
      "\n",
      "See the caveats in the documentation: https://pandas.pydata.org/pandas-docs/stable/user_guide/indexing.html#returning-a-view-versus-a-copy\n",
      "  aus['face'] = range(len(aus))\n"
     ]
    },
    {
     "name": "stdout",
     "output_type": "stream",
     "text": [
      "(421, 77)\n",
      "(522, 187)\n"
     ]
    },
    {
     "name": "stderr",
     "output_type": "stream",
     "text": [
      "100%|██████████| 1/1 [00:04<00:00,  4.98s/it]\n",
      "C:\\Users\\Shuai Shao\\AppData\\Local\\Temp\\ipykernel_2924\\1233291829.py:24: SettingWithCopyWarning: \n",
      "A value is trying to be set on a copy of a slice from a DataFrame.\n",
      "Try using .loc[row_indexer,col_indexer] = value instead\n",
      "\n",
      "See the caveats in the documentation: https://pandas.pydata.org/pandas-docs/stable/user_guide/indexing.html#returning-a-view-versus-a-copy\n",
      "  aus['file'] = name\n",
      "C:\\Users\\Shuai Shao\\AppData\\Local\\Temp\\ipykernel_2924\\1233291829.py:25: SettingWithCopyWarning: \n",
      "A value is trying to be set on a copy of a slice from a DataFrame.\n",
      "Try using .loc[row_indexer,col_indexer] = value instead\n",
      "\n",
      "See the caveats in the documentation: https://pandas.pydata.org/pandas-docs/stable/user_guide/indexing.html#returning-a-view-versus-a-copy\n",
      "  aus['face'] = range(len(aus))\n"
     ]
    },
    {
     "name": "stdout",
     "output_type": "stream",
     "text": [
      "(641, 198)\n",
      "(694, 273)\n",
      "(404, 210)\n",
      "(454, 276)\n",
      "(566, 106)\n",
      "(613, 167)\n",
      "(202, 77)\n",
      "(245, 146)\n"
     ]
    },
    {
     "name": "stderr",
     "output_type": "stream",
     "text": [
      "100%|██████████| 1/1 [00:02<00:00,  2.62s/it]\n",
      "C:\\Users\\Shuai Shao\\AppData\\Local\\Temp\\ipykernel_2924\\1233291829.py:24: SettingWithCopyWarning: \n",
      "A value is trying to be set on a copy of a slice from a DataFrame.\n",
      "Try using .loc[row_indexer,col_indexer] = value instead\n",
      "\n",
      "See the caveats in the documentation: https://pandas.pydata.org/pandas-docs/stable/user_guide/indexing.html#returning-a-view-versus-a-copy\n",
      "  aus['file'] = name\n",
      "C:\\Users\\Shuai Shao\\AppData\\Local\\Temp\\ipykernel_2924\\1233291829.py:25: SettingWithCopyWarning: \n",
      "A value is trying to be set on a copy of a slice from a DataFrame.\n",
      "Try using .loc[row_indexer,col_indexer] = value instead\n",
      "\n",
      "See the caveats in the documentation: https://pandas.pydata.org/pandas-docs/stable/user_guide/indexing.html#returning-a-view-versus-a-copy\n",
      "  aus['face'] = range(len(aus))\n"
     ]
    },
    {
     "name": "stdout",
     "output_type": "stream",
     "text": [
      "(177, 73)\n",
      "(318, 248)\n"
     ]
    },
    {
     "name": "stderr",
     "output_type": "stream",
     "text": [
      "100%|██████████| 1/1 [00:02<00:00,  2.88s/it]\n",
      "C:\\Users\\Shuai Shao\\AppData\\Local\\Temp\\ipykernel_2924\\1233291829.py:24: SettingWithCopyWarning: \n",
      "A value is trying to be set on a copy of a slice from a DataFrame.\n",
      "Try using .loc[row_indexer,col_indexer] = value instead\n",
      "\n",
      "See the caveats in the documentation: https://pandas.pydata.org/pandas-docs/stable/user_guide/indexing.html#returning-a-view-versus-a-copy\n",
      "  aus['file'] = name\n",
      "C:\\Users\\Shuai Shao\\AppData\\Local\\Temp\\ipykernel_2924\\1233291829.py:25: SettingWithCopyWarning: \n",
      "A value is trying to be set on a copy of a slice from a DataFrame.\n",
      "Try using .loc[row_indexer,col_indexer] = value instead\n",
      "\n",
      "See the caveats in the documentation: https://pandas.pydata.org/pandas-docs/stable/user_guide/indexing.html#returning-a-view-versus-a-copy\n",
      "  aus['face'] = range(len(aus))\n"
     ]
    },
    {
     "name": "stdout",
     "output_type": "stream",
     "text": [
      "(572, 139)\n",
      "(797, 446)\n",
      "(143, 405)\n",
      "(230, 509)\n"
     ]
    },
    {
     "name": "stderr",
     "output_type": "stream",
     "text": [
      "100%|██████████| 1/1 [00:04<00:00,  4.82s/it]\n",
      "C:\\Users\\Shuai Shao\\AppData\\Local\\Temp\\ipykernel_2924\\1233291829.py:24: SettingWithCopyWarning: \n",
      "A value is trying to be set on a copy of a slice from a DataFrame.\n",
      "Try using .loc[row_indexer,col_indexer] = value instead\n",
      "\n",
      "See the caveats in the documentation: https://pandas.pydata.org/pandas-docs/stable/user_guide/indexing.html#returning-a-view-versus-a-copy\n",
      "  aus['file'] = name\n",
      "C:\\Users\\Shuai Shao\\AppData\\Local\\Temp\\ipykernel_2924\\1233291829.py:25: SettingWithCopyWarning: \n",
      "A value is trying to be set on a copy of a slice from a DataFrame.\n",
      "Try using .loc[row_indexer,col_indexer] = value instead\n",
      "\n",
      "See the caveats in the documentation: https://pandas.pydata.org/pandas-docs/stable/user_guide/indexing.html#returning-a-view-versus-a-copy\n",
      "  aus['face'] = range(len(aus))\n"
     ]
    },
    {
     "name": "stdout",
     "output_type": "stream",
     "text": [
      "(664, 151)\n",
      "(858, 399)\n",
      "(448, 129)\n",
      "(564, 285)\n",
      "(183, 146)\n",
      "(292, 284)\n"
     ]
    },
    {
     "name": "stderr",
     "output_type": "stream",
     "text": [
      "100%|██████████| 1/1 [00:04<00:00,  4.62s/it]\n",
      "C:\\Users\\Shuai Shao\\AppData\\Local\\Temp\\ipykernel_2924\\1233291829.py:24: SettingWithCopyWarning: \n",
      "A value is trying to be set on a copy of a slice from a DataFrame.\n",
      "Try using .loc[row_indexer,col_indexer] = value instead\n",
      "\n",
      "See the caveats in the documentation: https://pandas.pydata.org/pandas-docs/stable/user_guide/indexing.html#returning-a-view-versus-a-copy\n",
      "  aus['file'] = name\n",
      "C:\\Users\\Shuai Shao\\AppData\\Local\\Temp\\ipykernel_2924\\1233291829.py:25: SettingWithCopyWarning: \n",
      "A value is trying to be set on a copy of a slice from a DataFrame.\n",
      "Try using .loc[row_indexer,col_indexer] = value instead\n",
      "\n",
      "See the caveats in the documentation: https://pandas.pydata.org/pandas-docs/stable/user_guide/indexing.html#returning-a-view-versus-a-copy\n",
      "  aus['face'] = range(len(aus))\n"
     ]
    },
    {
     "name": "stdout",
     "output_type": "stream",
     "text": [
      "(457, 168)\n",
      "(555, 295)\n",
      "(354, 165)\n",
      "(458, 304)\n",
      "(560, 107)\n",
      "(661, 239)\n",
      "                file   valence      AU01      AU02      AU04      AU05  \\\n",
      "0          thumbs-up  positive  0.292465  0.432277  0.175178  0.229799   \n",
      "1            sad-man  negative  0.652417  0.417060  0.224957  0.483308   \n",
      "2              claws  negative  0.332971  0.105001  0.931827  0.298775   \n",
      "3    laughing-couple  positive  0.518089  0.523467  0.454088  0.320439   \n",
      "4    laughing-couple  positive  0.520513  0.187610  0.607923  0.309339   \n",
      "5    laughing-couple  positive  0.711365  0.580891  0.488883  0.305874   \n",
      "6         by-the-sea  negative  0.402138  0.205589  0.701418  0.257941   \n",
      "7         by-the-sea  negative  0.680756  0.136374  0.665335  0.288808   \n",
      "8            arguing  negative  0.151386  0.140141  0.354548  0.361352   \n",
      "9            arguing  negative  0.389003  0.127074  0.843135  0.459386   \n",
      "10  enjoying-the-sun  positive  0.421177  0.421142  0.206989  0.336657   \n",
      "11         piggyback  positive  0.583144  0.163220  0.601647  0.316644   \n",
      "12         piggyback  positive  0.351272  0.449598  0.333398  0.253416   \n",
      "13          back-off  negative  0.517492  0.227330  0.243470  0.725215   \n",
      "14         handshake  positive  0.436885  0.370661  0.406362  0.279268   \n",
      "15         handshake  positive  0.269742  0.213920  0.332165  0.277158   \n",
      "16         handshake  positive  0.552389  0.547241  0.604368  0.276909   \n",
      "17            tablet  negative  0.334787  0.096887  0.570504  0.324029   \n",
      "18         happy-man  positive  0.489040  0.398962  0.370133  0.274994   \n",
      "19         sad-woman  negative  0.631742  0.633063  0.381163  0.315141   \n",
      "20          business  positive  0.276191  0.152989  0.362165  0.261409   \n",
      "21              pain  negative  0.372805  0.411601  0.407597  0.392750   \n",
      "22          students  positive  0.555830  0.189979  0.686918  0.292108   \n",
      "23          students  positive  0.420112  0.189723  0.097076  0.353657   \n",
      "24          students  positive  0.391984  0.237785  0.334620  0.356639   \n",
      "25          students  positive  0.399040  0.129250  0.791166  0.299150   \n",
      "26             bills  negative  0.388680  0.197236  0.606729  0.231746   \n",
      "27           bullied  negative  0.301577  0.185463  0.805095  0.480489   \n",
      "28           bullied  negative  0.415750  0.424653  0.189703  0.502299   \n",
      "29      disagreement  negative  0.348266  0.271851  0.289249  0.577633   \n",
      "30      disagreement  negative  0.302074  0.239038  0.590965  0.216845   \n",
      "31      disagreement  negative  0.458317  0.240075  0.126495  0.295747   \n",
      "32      grandparents  positive  0.264805  0.322456  0.309800  0.322348   \n",
      "33      grandparents  positive  0.497441  0.268270  0.416279  0.220653   \n",
      "34      grandparents  positive  0.467048  0.095630  0.875151  0.337699   \n",
      "\n",
      "        AU06  AU07      AU09      AU10  ...      AU15      AU17  AU20  \\\n",
      "0   0.950113   1.0  0.580514  0.990095  ...  0.022540  0.125573   1.0   \n",
      "1   0.271612   1.0  0.285886  0.043309  ...  0.215620  0.443356   0.0   \n",
      "2   0.781315   1.0  0.792630  0.999133  ...  0.545613  0.234097   1.0   \n",
      "3   0.904148   1.0  0.566153  0.633983  ...  0.120794  0.415429   1.0   \n",
      "4   0.332833   0.0  0.643051  0.005804  ...  0.369962  0.495863   1.0   \n",
      "5   0.269983   0.0  0.428345  0.166996  ...  0.247530  0.330331   1.0   \n",
      "6   0.180494   0.0  0.400779  0.000825  ...  0.065242  0.381293   1.0   \n",
      "7   0.099413   0.0  0.467012  0.001301  ...  0.491740  0.392793   0.0   \n",
      "8   0.102333   0.0  0.181343  0.177283  ...  0.316771  0.373146   1.0   \n",
      "9   0.061933   0.0  0.201016  0.000652  ...  0.523899  0.470959   0.0   \n",
      "10  0.721035   1.0  0.375257  0.690300  ...  0.522973  0.574821   0.0   \n",
      "11  0.774051   1.0  0.526625  0.625722  ...  0.499463  0.320395   1.0   \n",
      "12  0.710987   1.0  0.485733  0.991723  ...  0.216056  0.196830   1.0   \n",
      "13  0.070471   0.0  0.133483  0.004141  ...  0.455741  0.283976   1.0   \n",
      "14  0.841304   1.0  0.584719  0.926104  ...  0.183166  0.166898   1.0   \n",
      "15  0.804940   1.0  0.605116  0.972949  ...  0.145783  0.403186   1.0   \n",
      "16  0.173357   0.0  0.332328  0.515557  ...  0.685588  0.467244   1.0   \n",
      "17  0.085213   0.0  0.199524  0.001715  ...  0.277026  0.494784   0.0   \n",
      "18  0.919087   1.0  0.516907  0.989414  ...  0.146434  0.335825   1.0   \n",
      "19  0.068971   0.0  0.298669  0.000309  ...  0.329116  0.377752   0.0   \n",
      "20  0.807749   1.0  0.445573  0.480218  ...  0.662283  0.295244   1.0   \n",
      "21  0.666038   1.0  0.637629  0.778027  ...  0.191784  0.434838   0.0   \n",
      "22  0.366506   0.0  0.624464  0.020526  ...  0.716252  0.500640   1.0   \n",
      "23  0.932503   1.0  0.605929  0.813971  ...  0.432486  0.105571   1.0   \n",
      "24  0.644422   0.0  0.594735  0.605904  ...  0.178850  0.310525   1.0   \n",
      "25  0.519061   1.0  0.469575  0.885957  ...  0.409374  0.360066   1.0   \n",
      "26  0.098091   0.0  0.286462  0.138269  ...  0.343225  0.323378   0.0   \n",
      "27  0.155029   0.0  0.134150  0.005832  ...  0.472165  0.648216   0.0   \n",
      "28  0.080276   0.0  0.132577  0.021833  ...  0.516485  0.465896   0.0   \n",
      "29  0.096787   0.0  0.114005  0.011003  ...  0.371164  0.492295   0.0   \n",
      "30  0.049979   0.0  0.189569  0.015603  ...  0.355451  0.221122   0.0   \n",
      "31  0.071853   0.0  0.220087  0.230844  ...  0.425650  0.441875   1.0   \n",
      "32  0.634366   1.0  0.667120  0.167038  ...  0.489638  0.265023   1.0   \n",
      "33  0.914461   1.0  0.773256  0.350736  ...  0.229276  0.183925   1.0   \n",
      "34  0.092479   0.0  0.324306  0.002855  ...  0.858957  0.617463   0.0   \n",
      "\n",
      "        AU23      AU24      AU25      AU26      AU28      AU43  face  \n",
      "0   0.045834  0.005221  0.999958  0.329711  0.019570  0.277995     0  \n",
      "1   0.272489  0.564758  0.655353  0.474714  0.101626  0.359562     0  \n",
      "2   0.361314  0.007615  0.999654  0.871011  0.092441  0.682105     0  \n",
      "3   0.201725  0.294767  0.944771  0.466538  0.194750  0.755650     0  \n",
      "4   0.718376  0.606470  0.525063  0.431198  0.784799  0.217377     1  \n",
      "5   0.228051  0.179151  0.997935  0.401450  0.124445  0.898972     2  \n",
      "6   0.510105  0.622857  0.602756  0.330356  0.249349  0.506654     0  \n",
      "7   0.736817  0.466384  0.816095  0.330219  0.164642  0.441985     1  \n",
      "8   0.649485  0.655969  0.043879  0.107753  0.128440  0.060353     0  \n",
      "9   0.294490  0.476791  0.003804  0.232277  0.903519  0.051893     1  \n",
      "10  0.352477  0.590989  0.771172  0.419299  0.080924  0.852011     0  \n",
      "11  0.212143  0.012461  0.999862  0.656287  0.040424  0.301196     0  \n",
      "12  0.298105  0.038459  0.999988  0.289953  0.223425  0.833574     1  \n",
      "13  0.329292  0.070884  0.997220  0.462353  0.057802  0.048005     0  \n",
      "14  0.113409  0.013947  0.999931  0.392121  0.076828  0.138771     0  \n",
      "15  0.332260  0.469901  0.999866  0.704211  0.499006  0.886943     1  \n",
      "16  0.614726  0.314096  0.706425  0.580606  0.226757  0.891228     2  \n",
      "17  0.229985  0.621650  0.031695  0.192747  0.224347  0.408650     0  \n",
      "18  0.140261  0.178980  0.999896  0.580982  0.083334  0.475268     0  \n",
      "19  0.335115  0.310883  0.387382  0.249791  0.166794  0.900724     0  \n",
      "20  0.281842  0.094979  0.996656  0.680923  0.016677  0.304808     0  \n",
      "21  0.404425  0.416495  0.233791  0.267170  0.046506  0.829233     0  \n",
      "22  0.574035  0.135127  0.977249  0.763821  0.201189  0.814093     0  \n",
      "23  0.113151  0.007562  0.999948  0.671754  0.054136  0.044401     1  \n",
      "24  0.558159  0.082850  0.992271  0.449361  0.063980  0.030155     2  \n",
      "25  0.719024  0.036256  0.999405  0.786649  0.181800  0.788693     3  \n",
      "26  0.538570  0.609777  0.003652  0.161560  0.128122  0.724551     0  \n",
      "27  0.439989  0.821037  0.088679  0.045125  0.227330  0.035504     0  \n",
      "28  0.717637  0.533676  0.015596  0.130202  0.179587  0.101071     1  \n",
      "29  0.437687  0.482573  0.064133  0.103712  0.255633  0.033056     0  \n",
      "30  0.287109  0.180640  0.967365  0.727386  0.034110  0.128918     1  \n",
      "31  0.538142  0.149729  0.945268  0.493449  0.221965  0.033692     2  \n",
      "32  0.315057  0.014834  0.999972  0.585865  0.135921  0.916586     0  \n",
      "33  0.199229  0.011019  0.999941  0.804257  0.009645  0.277607     1  \n",
      "34  0.743830  0.748477  0.469512  0.765543  0.327428  0.638592     2  \n",
      "\n",
      "[35 rows x 23 columns]\n"
     ]
    }
   ],
   "source": [
    "def proc_image(path, detector):\n",
    "\n",
    "    pred = detector.detect_image(path)\n",
    "    img = cv2.imread(path)\n",
    "    #pred.plot_detections()\n",
    "\n",
    "\n",
    "    fb = pred.faceboxes\n",
    "    x_start = np.floor(fb['FaceRectX']).astype('int')\n",
    "    y_start = np.floor(fb['FaceRectY']).astype('int')\n",
    "    start_points = list(zip(x_start, y_start))\n",
    "    end_points = list(zip((np.ceil(fb['FaceRectWidth']).astype('int')+x_start), (np.ceil(fb['FaceRectHeight']).astype('int')+y_start)))\n",
    "    for start, end in zip(start_points, end_points):\n",
    "        print(start)\n",
    "        print(end)\n",
    "        img = cv2.rectangle(img, start, end, color = (255, 0, 0), thickness = 3)\n",
    "\n",
    "    # TODO implement emotion text annotation\n",
    "    # em = pred.emotions\n",
    "    # cv2.putText(image, )\n",
    "\n",
    "    aus = pred.aus\n",
    "    name = Path(path).stem\n",
    "    aus['file'] = name\n",
    "    aus['face'] = range(len(aus))\n",
    "    \n",
    "\n",
    "    cv2.imwrite(f\"../processed/images/{name}.jpg\", img)\n",
    "    return aus\n",
    "\n",
    "all_aus = reduce((lambda a, b: a.append(b)), list(map(lambda y: proc_image(y, detector), map(lambda x: f\"../dataset/images/{x}.jpg\", df['file']))))\n",
    "all_aus.to_csv(\"../processed/aus.csv\", index = False)\n",
    "ann_aus = pd.merge(df, all_aus, on='file', how  = 'inner')\n",
    "ann_aus.loc[ann_aus['valence'] = 'positive', '', '']\n",
    "print(ann_aus)\n"
   ]
  },
  {
   "cell_type": "code",
   "execution_count": 15,
   "metadata": {},
   "outputs": [
    {
     "name": "stdout",
     "output_type": "stream",
     "text": [
      "(667, 1000, 3)\n"
     ]
    },
    {
     "ename": "TypeError",
     "evalue": "unhashable type: 'numpy.ndarray'",
     "output_type": "error",
     "traceback": [
      "\u001b[1;31m---------------------------------------------------------------------------\u001b[0m",
      "\u001b[1;31mTypeError\u001b[0m                                 Traceback (most recent call last)",
      "\u001b[1;32mc:\\Users\\Shuai Shao\\Documents\\Repositories\\IIS\\Ass1\\scripts\\ass1.ipynb Cell 6\u001b[0m line \u001b[0;36m3\n\u001b[0;32m      <a href='vscode-notebook-cell:/c%3A/Users/Shuai%20Shao/Documents/Repositories/IIS/Ass1/scripts/ass1.ipynb#X11sZmlsZQ%3D%3D?line=0'>1</a>\u001b[0m img \u001b[39m=\u001b[39m cv2\u001b[39m.\u001b[39mimread(\u001b[39m'\u001b[39m\u001b[39m../dataset/images/arguing.jpg\u001b[39m\u001b[39m'\u001b[39m)\n\u001b[0;32m      <a href='vscode-notebook-cell:/c%3A/Users/Shuai%20Shao/Documents/Repositories/IIS/Ass1/scripts/ass1.ipynb#X11sZmlsZQ%3D%3D?line=1'>2</a>\u001b[0m \u001b[39mprint\u001b[39m(img\u001b[39m.\u001b[39mshape)\n\u001b[1;32m----> <a href='vscode-notebook-cell:/c%3A/Users/Shuai%20Shao/Documents/Repositories/IIS/Ass1/scripts/ass1.ipynb#X11sZmlsZQ%3D%3D?line=2'>3</a>\u001b[0m plt\u001b[39m.\u001b[39;49mimshow(\u001b[39m'\u001b[39;49m\u001b[39mtest\u001b[39;49m\u001b[39m'\u001b[39;49m, img)\n\u001b[0;32m      <a href='vscode-notebook-cell:/c%3A/Users/Shuai%20Shao/Documents/Repositories/IIS/Ass1/scripts/ass1.ipynb#X11sZmlsZQ%3D%3D?line=3'>4</a>\u001b[0m cv2\u001b[39m.\u001b[39mwaitKey(\u001b[39m0\u001b[39m)\n\u001b[0;32m      <a href='vscode-notebook-cell:/c%3A/Users/Shuai%20Shao/Documents/Repositories/IIS/Ass1/scripts/ass1.ipynb#X11sZmlsZQ%3D%3D?line=4'>5</a>\u001b[0m cv2\u001b[39m.\u001b[39mdestroyAllWindows()\n",
      "File \u001b[1;32mc:\\Users\\Shuai Shao\\AppData\\Local\\Programs\\Python\\Python311\\Lib\\site-packages\\matplotlib\\pyplot.py:3346\u001b[0m, in \u001b[0;36mimshow\u001b[1;34m(X, cmap, norm, aspect, interpolation, alpha, vmin, vmax, origin, extent, interpolation_stage, filternorm, filterrad, resample, url, data, **kwargs)\u001b[0m\n\u001b[0;32m   3325\u001b[0m \u001b[39m@_copy_docstring_and_deprecators\u001b[39m(Axes\u001b[39m.\u001b[39mimshow)\n\u001b[0;32m   3326\u001b[0m \u001b[39mdef\u001b[39;00m \u001b[39mimshow\u001b[39m(\n\u001b[0;32m   3327\u001b[0m     X: ArrayLike \u001b[39m|\u001b[39m PIL\u001b[39m.\u001b[39mImage\u001b[39m.\u001b[39mImage,\n\u001b[1;32m   (...)\u001b[0m\n\u001b[0;32m   3344\u001b[0m     \u001b[39m*\u001b[39m\u001b[39m*\u001b[39mkwargs,\n\u001b[0;32m   3345\u001b[0m ) \u001b[39m-\u001b[39m\u001b[39m>\u001b[39m AxesImage:\n\u001b[1;32m-> 3346\u001b[0m     __ret \u001b[39m=\u001b[39m gca()\u001b[39m.\u001b[39;49mimshow(\n\u001b[0;32m   3347\u001b[0m         X,\n\u001b[0;32m   3348\u001b[0m         cmap\u001b[39m=\u001b[39;49mcmap,\n\u001b[0;32m   3349\u001b[0m         norm\u001b[39m=\u001b[39;49mnorm,\n\u001b[0;32m   3350\u001b[0m         aspect\u001b[39m=\u001b[39;49maspect,\n\u001b[0;32m   3351\u001b[0m         interpolation\u001b[39m=\u001b[39;49minterpolation,\n\u001b[0;32m   3352\u001b[0m         alpha\u001b[39m=\u001b[39;49malpha,\n\u001b[0;32m   3353\u001b[0m         vmin\u001b[39m=\u001b[39;49mvmin,\n\u001b[0;32m   3354\u001b[0m         vmax\u001b[39m=\u001b[39;49mvmax,\n\u001b[0;32m   3355\u001b[0m         origin\u001b[39m=\u001b[39;49morigin,\n\u001b[0;32m   3356\u001b[0m         extent\u001b[39m=\u001b[39;49mextent,\n\u001b[0;32m   3357\u001b[0m         interpolation_stage\u001b[39m=\u001b[39;49minterpolation_stage,\n\u001b[0;32m   3358\u001b[0m         filternorm\u001b[39m=\u001b[39;49mfilternorm,\n\u001b[0;32m   3359\u001b[0m         filterrad\u001b[39m=\u001b[39;49mfilterrad,\n\u001b[0;32m   3360\u001b[0m         resample\u001b[39m=\u001b[39;49mresample,\n\u001b[0;32m   3361\u001b[0m         url\u001b[39m=\u001b[39;49murl,\n\u001b[0;32m   3362\u001b[0m         \u001b[39m*\u001b[39;49m\u001b[39m*\u001b[39;49m({\u001b[39m\"\u001b[39;49m\u001b[39mdata\u001b[39;49m\u001b[39m\"\u001b[39;49m: data} \u001b[39mif\u001b[39;49;00m data \u001b[39mis\u001b[39;49;00m \u001b[39mnot\u001b[39;49;00m \u001b[39mNone\u001b[39;49;00m \u001b[39melse\u001b[39;49;00m {}),\n\u001b[0;32m   3363\u001b[0m         \u001b[39m*\u001b[39;49m\u001b[39m*\u001b[39;49mkwargs,\n\u001b[0;32m   3364\u001b[0m     )\n\u001b[0;32m   3365\u001b[0m     sci(__ret)\n\u001b[0;32m   3366\u001b[0m     \u001b[39mreturn\u001b[39;00m __ret\n",
      "File \u001b[1;32mc:\\Users\\Shuai Shao\\AppData\\Local\\Programs\\Python\\Python311\\Lib\\site-packages\\matplotlib\\__init__.py:1478\u001b[0m, in \u001b[0;36m_preprocess_data.<locals>.inner\u001b[1;34m(ax, data, *args, **kwargs)\u001b[0m\n\u001b[0;32m   1475\u001b[0m \u001b[39m@functools\u001b[39m\u001b[39m.\u001b[39mwraps(func)\n\u001b[0;32m   1476\u001b[0m \u001b[39mdef\u001b[39;00m \u001b[39minner\u001b[39m(ax, \u001b[39m*\u001b[39margs, data\u001b[39m=\u001b[39m\u001b[39mNone\u001b[39;00m, \u001b[39m*\u001b[39m\u001b[39m*\u001b[39mkwargs):\n\u001b[0;32m   1477\u001b[0m     \u001b[39mif\u001b[39;00m data \u001b[39mis\u001b[39;00m \u001b[39mNone\u001b[39;00m:\n\u001b[1;32m-> 1478\u001b[0m         \u001b[39mreturn\u001b[39;00m func(ax, \u001b[39m*\u001b[39;49m\u001b[39mmap\u001b[39;49m(sanitize_sequence, args), \u001b[39m*\u001b[39;49m\u001b[39m*\u001b[39;49mkwargs)\n\u001b[0;32m   1480\u001b[0m     bound \u001b[39m=\u001b[39m new_sig\u001b[39m.\u001b[39mbind(ax, \u001b[39m*\u001b[39margs, \u001b[39m*\u001b[39m\u001b[39m*\u001b[39mkwargs)\n\u001b[0;32m   1481\u001b[0m     auto_label \u001b[39m=\u001b[39m (bound\u001b[39m.\u001b[39marguments\u001b[39m.\u001b[39mget(label_namer)\n\u001b[0;32m   1482\u001b[0m                   \u001b[39mor\u001b[39;00m bound\u001b[39m.\u001b[39mkwargs\u001b[39m.\u001b[39mget(label_namer))\n",
      "File \u001b[1;32mc:\\Users\\Shuai Shao\\AppData\\Local\\Programs\\Python\\Python311\\Lib\\site-packages\\matplotlib\\axes\\_axes.py:5737\u001b[0m, in \u001b[0;36mAxes.imshow\u001b[1;34m(self, X, cmap, norm, aspect, interpolation, alpha, vmin, vmax, origin, extent, interpolation_stage, filternorm, filterrad, resample, url, **kwargs)\u001b[0m\n\u001b[0;32m   5532\u001b[0m \u001b[39m@_preprocess_data\u001b[39m()\n\u001b[0;32m   5533\u001b[0m \u001b[39m@_docstring\u001b[39m\u001b[39m.\u001b[39minterpd\n\u001b[0;32m   5534\u001b[0m \u001b[39mdef\u001b[39;00m \u001b[39mimshow\u001b[39m(\u001b[39mself\u001b[39m, X, cmap\u001b[39m=\u001b[39m\u001b[39mNone\u001b[39;00m, norm\u001b[39m=\u001b[39m\u001b[39mNone\u001b[39;00m, \u001b[39m*\u001b[39m, aspect\u001b[39m=\u001b[39m\u001b[39mNone\u001b[39;00m,\n\u001b[1;32m   (...)\u001b[0m\n\u001b[0;32m   5537\u001b[0m            interpolation_stage\u001b[39m=\u001b[39m\u001b[39mNone\u001b[39;00m, filternorm\u001b[39m=\u001b[39m\u001b[39mTrue\u001b[39;00m, filterrad\u001b[39m=\u001b[39m\u001b[39m4.0\u001b[39m,\n\u001b[0;32m   5538\u001b[0m            resample\u001b[39m=\u001b[39m\u001b[39mNone\u001b[39;00m, url\u001b[39m=\u001b[39m\u001b[39mNone\u001b[39;00m, \u001b[39m*\u001b[39m\u001b[39m*\u001b[39mkwargs):\n\u001b[0;32m   5539\u001b[0m \u001b[39m    \u001b[39m\u001b[39m\"\"\"\u001b[39;00m\n\u001b[0;32m   5540\u001b[0m \u001b[39m    Display data as an image, i.e., on a 2D regular raster.\u001b[39;00m\n\u001b[0;32m   5541\u001b[0m \n\u001b[1;32m   (...)\u001b[0m\n\u001b[0;32m   5735\u001b[0m \u001b[39m    (unassociated) alpha representation.\u001b[39;00m\n\u001b[0;32m   5736\u001b[0m \u001b[39m    \"\"\"\u001b[39;00m\n\u001b[1;32m-> 5737\u001b[0m     im \u001b[39m=\u001b[39m mimage\u001b[39m.\u001b[39;49mAxesImage(\u001b[39mself\u001b[39;49m, cmap\u001b[39m=\u001b[39;49mcmap, norm\u001b[39m=\u001b[39;49mnorm,\n\u001b[0;32m   5738\u001b[0m                           interpolation\u001b[39m=\u001b[39;49minterpolation, origin\u001b[39m=\u001b[39;49morigin,\n\u001b[0;32m   5739\u001b[0m                           extent\u001b[39m=\u001b[39;49mextent, filternorm\u001b[39m=\u001b[39;49mfilternorm,\n\u001b[0;32m   5740\u001b[0m                           filterrad\u001b[39m=\u001b[39;49mfilterrad, resample\u001b[39m=\u001b[39;49mresample,\n\u001b[0;32m   5741\u001b[0m                           interpolation_stage\u001b[39m=\u001b[39;49minterpolation_stage,\n\u001b[0;32m   5742\u001b[0m                           \u001b[39m*\u001b[39;49m\u001b[39m*\u001b[39;49mkwargs)\n\u001b[0;32m   5744\u001b[0m     \u001b[39mif\u001b[39;00m aspect \u001b[39mis\u001b[39;00m \u001b[39mNone\u001b[39;00m \u001b[39mand\u001b[39;00m \u001b[39mnot\u001b[39;00m (\n\u001b[0;32m   5745\u001b[0m             im\u001b[39m.\u001b[39mis_transform_set()\n\u001b[0;32m   5746\u001b[0m             \u001b[39mand\u001b[39;00m \u001b[39mnot\u001b[39;00m im\u001b[39m.\u001b[39mget_transform()\u001b[39m.\u001b[39mcontains_branch(\u001b[39mself\u001b[39m\u001b[39m.\u001b[39mtransData)):\n\u001b[0;32m   5747\u001b[0m         aspect \u001b[39m=\u001b[39m mpl\u001b[39m.\u001b[39mrcParams[\u001b[39m'\u001b[39m\u001b[39mimage.aspect\u001b[39m\u001b[39m'\u001b[39m]\n",
      "File \u001b[1;32mc:\\Users\\Shuai Shao\\AppData\\Local\\Programs\\Python\\Python311\\Lib\\site-packages\\matplotlib\\image.py:912\u001b[0m, in \u001b[0;36mAxesImage.__init__\u001b[1;34m(self, ax, cmap, norm, interpolation, origin, extent, filternorm, filterrad, resample, interpolation_stage, **kwargs)\u001b[0m\n\u001b[0;32m    896\u001b[0m \u001b[39mdef\u001b[39;00m \u001b[39m__init__\u001b[39m(\u001b[39mself\u001b[39m, ax,\n\u001b[0;32m    897\u001b[0m              \u001b[39m*\u001b[39m,\n\u001b[0;32m    898\u001b[0m              cmap\u001b[39m=\u001b[39m\u001b[39mNone\u001b[39;00m,\n\u001b[1;32m   (...)\u001b[0m\n\u001b[0;32m    907\u001b[0m              \u001b[39m*\u001b[39m\u001b[39m*\u001b[39mkwargs\n\u001b[0;32m    908\u001b[0m              ):\n\u001b[0;32m    910\u001b[0m     \u001b[39mself\u001b[39m\u001b[39m.\u001b[39m_extent \u001b[39m=\u001b[39m extent\n\u001b[1;32m--> 912\u001b[0m     \u001b[39msuper\u001b[39;49m()\u001b[39m.\u001b[39;49m\u001b[39m__init__\u001b[39;49m(\n\u001b[0;32m    913\u001b[0m         ax,\n\u001b[0;32m    914\u001b[0m         cmap\u001b[39m=\u001b[39;49mcmap,\n\u001b[0;32m    915\u001b[0m         norm\u001b[39m=\u001b[39;49mnorm,\n\u001b[0;32m    916\u001b[0m         interpolation\u001b[39m=\u001b[39;49minterpolation,\n\u001b[0;32m    917\u001b[0m         origin\u001b[39m=\u001b[39;49morigin,\n\u001b[0;32m    918\u001b[0m         filternorm\u001b[39m=\u001b[39;49mfilternorm,\n\u001b[0;32m    919\u001b[0m         filterrad\u001b[39m=\u001b[39;49mfilterrad,\n\u001b[0;32m    920\u001b[0m         resample\u001b[39m=\u001b[39;49mresample,\n\u001b[0;32m    921\u001b[0m         interpolation_stage\u001b[39m=\u001b[39;49minterpolation_stage,\n\u001b[0;32m    922\u001b[0m         \u001b[39m*\u001b[39;49m\u001b[39m*\u001b[39;49mkwargs\n\u001b[0;32m    923\u001b[0m     )\n",
      "File \u001b[1;32mc:\\Users\\Shuai Shao\\AppData\\Local\\Programs\\Python\\Python311\\Lib\\site-packages\\matplotlib\\image.py:261\u001b[0m, in \u001b[0;36m_ImageBase.__init__\u001b[1;34m(self, ax, cmap, norm, interpolation, origin, filternorm, filterrad, resample, interpolation_stage, **kwargs)\u001b[0m\n\u001b[0;32m    248\u001b[0m \u001b[39mdef\u001b[39;00m \u001b[39m__init__\u001b[39m(\u001b[39mself\u001b[39m, ax,\n\u001b[0;32m    249\u001b[0m              cmap\u001b[39m=\u001b[39m\u001b[39mNone\u001b[39;00m,\n\u001b[0;32m    250\u001b[0m              norm\u001b[39m=\u001b[39m\u001b[39mNone\u001b[39;00m,\n\u001b[1;32m   (...)\u001b[0m\n\u001b[0;32m    258\u001b[0m              \u001b[39m*\u001b[39m\u001b[39m*\u001b[39mkwargs\n\u001b[0;32m    259\u001b[0m              ):\n\u001b[0;32m    260\u001b[0m     martist\u001b[39m.\u001b[39mArtist\u001b[39m.\u001b[39m\u001b[39m__init__\u001b[39m(\u001b[39mself\u001b[39m)\n\u001b[1;32m--> 261\u001b[0m     cm\u001b[39m.\u001b[39;49mScalarMappable\u001b[39m.\u001b[39;49m\u001b[39m__init__\u001b[39;49m(\u001b[39mself\u001b[39;49m, norm, cmap)\n\u001b[0;32m    262\u001b[0m     \u001b[39mif\u001b[39;00m origin \u001b[39mis\u001b[39;00m \u001b[39mNone\u001b[39;00m:\n\u001b[0;32m    263\u001b[0m         origin \u001b[39m=\u001b[39m mpl\u001b[39m.\u001b[39mrcParams[\u001b[39m'\u001b[39m\u001b[39mimage.origin\u001b[39m\u001b[39m'\u001b[39m]\n",
      "File \u001b[1;32mc:\\Users\\Shuai Shao\\AppData\\Local\\Programs\\Python\\Python311\\Lib\\site-packages\\matplotlib\\cm.py:411\u001b[0m, in \u001b[0;36mScalarMappable.__init__\u001b[1;34m(self, norm, cmap)\u001b[0m\n\u001b[0;32m    409\u001b[0m \u001b[39mself\u001b[39m\u001b[39m.\u001b[39mset_norm(norm)  \u001b[39m# The Normalize instance of this ScalarMappable.\u001b[39;00m\n\u001b[0;32m    410\u001b[0m \u001b[39mself\u001b[39m\u001b[39m.\u001b[39mcmap \u001b[39m=\u001b[39m \u001b[39mNone\u001b[39;00m  \u001b[39m# So that the setter knows we're initializing.\u001b[39;00m\n\u001b[1;32m--> 411\u001b[0m \u001b[39mself\u001b[39;49m\u001b[39m.\u001b[39;49mset_cmap(cmap)  \u001b[39m# The Colormap instance of this ScalarMappable.\u001b[39;00m\n\u001b[0;32m    412\u001b[0m \u001b[39m#: The last colorbar associated with this ScalarMappable. May be None.\u001b[39;00m\n\u001b[0;32m    413\u001b[0m \u001b[39mself\u001b[39m\u001b[39m.\u001b[39mcolorbar \u001b[39m=\u001b[39m \u001b[39mNone\u001b[39;00m\n",
      "File \u001b[1;32mc:\\Users\\Shuai Shao\\AppData\\Local\\Programs\\Python\\Python311\\Lib\\site-packages\\matplotlib\\cm.py:600\u001b[0m, in \u001b[0;36mScalarMappable.set_cmap\u001b[1;34m(self, cmap)\u001b[0m\n\u001b[0;32m    591\u001b[0m \u001b[39m\u001b[39m\u001b[39m\"\"\"\u001b[39;00m\n\u001b[0;32m    592\u001b[0m \u001b[39mSet the colormap for luminance data.\u001b[39;00m\n\u001b[0;32m    593\u001b[0m \n\u001b[1;32m   (...)\u001b[0m\n\u001b[0;32m    596\u001b[0m \u001b[39mcmap : `.Colormap` or str or None\u001b[39;00m\n\u001b[0;32m    597\u001b[0m \u001b[39m\"\"\"\u001b[39;00m\n\u001b[0;32m    598\u001b[0m in_init \u001b[39m=\u001b[39m \u001b[39mself\u001b[39m\u001b[39m.\u001b[39mcmap \u001b[39mis\u001b[39;00m \u001b[39mNone\u001b[39;00m\n\u001b[1;32m--> 600\u001b[0m \u001b[39mself\u001b[39m\u001b[39m.\u001b[39mcmap \u001b[39m=\u001b[39m _ensure_cmap(cmap)\n\u001b[0;32m    601\u001b[0m \u001b[39mif\u001b[39;00m \u001b[39mnot\u001b[39;00m in_init:\n\u001b[0;32m    602\u001b[0m     \u001b[39mself\u001b[39m\u001b[39m.\u001b[39mchanged()\n",
      "File \u001b[1;32mc:\\Users\\Shuai Shao\\AppData\\Local\\Programs\\Python\\Python311\\Lib\\site-packages\\matplotlib\\cm.py:738\u001b[0m, in \u001b[0;36m_ensure_cmap\u001b[1;34m(cmap)\u001b[0m\n\u001b[0;32m    735\u001b[0m cmap_name \u001b[39m=\u001b[39m cmap \u001b[39mif\u001b[39;00m cmap \u001b[39mis\u001b[39;00m \u001b[39mnot\u001b[39;00m \u001b[39mNone\u001b[39;00m \u001b[39melse\u001b[39;00m mpl\u001b[39m.\u001b[39mrcParams[\u001b[39m\"\u001b[39m\u001b[39mimage.cmap\u001b[39m\u001b[39m\"\u001b[39m]\n\u001b[0;32m    736\u001b[0m \u001b[39m# use check_in_list to ensure type stability of the exception raised by\u001b[39;00m\n\u001b[0;32m    737\u001b[0m \u001b[39m# the internal usage of this (ValueError vs KeyError)\u001b[39;00m\n\u001b[1;32m--> 738\u001b[0m \u001b[39mif\u001b[39;00m cmap_name \u001b[39mnot\u001b[39;49;00m \u001b[39min\u001b[39;49;00m _colormaps:\n\u001b[0;32m    739\u001b[0m     _api\u001b[39m.\u001b[39mcheck_in_list(\u001b[39msorted\u001b[39m(_colormaps), cmap\u001b[39m=\u001b[39mcmap_name)\n\u001b[0;32m    740\u001b[0m \u001b[39mreturn\u001b[39;00m mpl\u001b[39m.\u001b[39mcolormaps[cmap_name]\n",
      "File \u001b[1;32m<frozen _collections_abc>:780\u001b[0m, in \u001b[0;36m__contains__\u001b[1;34m(self, key)\u001b[0m\n",
      "File \u001b[1;32mc:\\Users\\Shuai Shao\\AppData\\Local\\Programs\\Python\\Python311\\Lib\\site-packages\\matplotlib\\cm.py:86\u001b[0m, in \u001b[0;36mColormapRegistry.__getitem__\u001b[1;34m(self, item)\u001b[0m\n\u001b[0;32m     84\u001b[0m \u001b[39mdef\u001b[39;00m \u001b[39m__getitem__\u001b[39m(\u001b[39mself\u001b[39m, item):\n\u001b[0;32m     85\u001b[0m     \u001b[39mtry\u001b[39;00m:\n\u001b[1;32m---> 86\u001b[0m         \u001b[39mreturn\u001b[39;00m \u001b[39mself\u001b[39;49m\u001b[39m.\u001b[39;49m_cmaps[item]\u001b[39m.\u001b[39mcopy()\n\u001b[0;32m     87\u001b[0m     \u001b[39mexcept\u001b[39;00m \u001b[39mKeyError\u001b[39;00m:\n\u001b[0;32m     88\u001b[0m         \u001b[39mraise\u001b[39;00m \u001b[39mKeyError\u001b[39;00m(\u001b[39mf\u001b[39m\u001b[39m\"\u001b[39m\u001b[39m{\u001b[39;00mitem\u001b[39m!r}\u001b[39;00m\u001b[39m is not a known colormap name\u001b[39m\u001b[39m\"\u001b[39m) \u001b[39mfrom\u001b[39;00m \u001b[39mNone\u001b[39;00m\n",
      "\u001b[1;31mTypeError\u001b[0m: unhashable type: 'numpy.ndarray'"
     ]
    },
    {
     "data": {
      "image/png": "[encoded data removed]",
      "text/plain": [
       "<Figure size 640x480 with 1 Axes>"
      ]
     },
     "metadata": {},
     "output_type": "display_data"
    }
   ],
   "source": [
    "\n",
    "# img = cv2.imread('../dataset/images/arguing.jpg')\n",
    "# print(img.shape)\n",
    "# plt.imshow('test', img)\n",
    "# cv2.waitKey(0)\n",
    "# cv2.destroyAllWindows()\n"
   ]
  },
  {
   "cell_type": "markdown",
   "metadata": {},
   "source": [
    "## Reflections\n",
    "### 1.\n",
    "\n",
    "\n",
    "### 2.\n",
    "* I would use backward feature elimination to determine which features yields the best performance increase / lowest performance decrease at the specified number of features. While it may be tempting to choose the AUs with the greatest mean difference between classes, these AUs may be intercorrelated, meaning that using more than one would may provide little to new information gain.\n",
    "* Having too many features can be a problem as the solution space becomes much larger and requires more data in order to train the model, otherwise possibly leading to overfitting, known as the curse of dimensionality."
   ]
  }
 ],
 "metadata": {
  "kernelspec": {
   "display_name": "Python 3",
   "language": "python",
   "name": "python3"
  },
  "language_info": {
   "codemirror_mode": {
    "name": "ipython",
    "version": 3
   },
   "file_extension": ".py",
   "mimetype": "text/x-python",
   "name": "python",
   "nbconvert_exporter": "python",
   "pygments_lexer": "ipython3",
   "version": "3.11.6"
  }
 },
 "nbformat": 4,
 "nbformat_minor": 2
}
