{
 "cells": [
  {
   "cell_type": "markdown",
   "metadata": {},
   "source": [
    "# Assignment 1\n",
    "## Shuai Shao"
   ]
  },
  {
   "cell_type": "code",
   "execution_count": 1,
   "metadata": {},
   "outputs": [
    {
     "ename": "ModuleNotFoundError",
     "evalue": "No module named 'numpy'",
     "output_type": "error",
     "traceback": [
      "\u001b[1;31m---------------------------------------------------------------------------\u001b[0m",
      "\u001b[1;31mModuleNotFoundError\u001b[0m                       Traceback (most recent call last)",
      "\u001b[1;32mc:\\Users\\Shuai Shao\\Documents\\Repositories\\IIS\\Ass1\\ass1.ipynb Cell 2\u001b[0m line \u001b[0;36m1\n\u001b[1;32m----> <a href='vscode-notebook-cell:/c%3A/Users/Shuai%20Shao/Documents/Repositories/IIS/Ass1/ass1.ipynb#W0sZmlsZQ%3D%3D?line=0'>1</a>\u001b[0m \u001b[39mimport\u001b[39;00m \u001b[39mnumpy\u001b[39;00m \u001b[39mas\u001b[39;00m \u001b[39mnp\u001b[39;00m\n\u001b[0;32m      <a href='vscode-notebook-cell:/c%3A/Users/Shuai%20Shao/Documents/Repositories/IIS/Ass1/ass1.ipynb#W0sZmlsZQ%3D%3D?line=1'>2</a>\u001b[0m \u001b[39mimport\u001b[39;00m \u001b[39mimageio\u001b[39;00m\u001b[39m.\u001b[39;00m\u001b[39mv3\u001b[39;00m \u001b[39mas\u001b[39;00m \u001b[39miio\u001b[39;00m\n\u001b[0;32m      <a href='vscode-notebook-cell:/c%3A/Users/Shuai%20Shao/Documents/Repositories/IIS/Ass1/ass1.ipynb#W0sZmlsZQ%3D%3D?line=2'>3</a>\u001b[0m \u001b[39mfrom\u001b[39;00m \u001b[39mfeat\u001b[39;00m \u001b[39mimport\u001b[39;00m Detector\n",
      "\u001b[1;31mModuleNotFoundError\u001b[0m: No module named 'numpy'"
     ]
    }
   ],
   "source": [
    "import numpy as np\n",
    "import imageio.v3 as iio\n",
    "from feat import Detector\n",
    "from IPython.display import Image\n",
    "import csv"
   ]
  },
  {
   "cell_type": "code",
   "execution_count": 6,
   "metadata": {},
   "outputs": [
    {
     "name": "stdout",
     "output_type": "stream",
     "text": [
      "['file', 'valence']\n",
      "['thumbs-up', 'positive']\n",
      "['sad-man', 'negative']\n",
      "['claws', 'negative']\n",
      "['laughing-couple', 'positive']\n",
      "['by-the-sea', 'negative']\n",
      "['arguing', 'negative']\n",
      "['enjoying-the-sun', 'positive']\n",
      "['piggyback', 'positive']\n",
      "['back-off', 'negative']\n",
      "['handshake', 'positive']\n",
      "['tablet', 'negative']\n",
      "['happy-man', 'positive']\n",
      "['sad-woman', 'negative']\n",
      "['business', 'positive']\n",
      "['pain', 'negative']\n",
      "['students', 'positive']\n",
      "['bills', 'negative']\n",
      "['bullied', 'negative']\n",
      "['disagreement', 'negative']\n",
      "['grandparents', 'positive']\n"
     ]
    }
   ],
   "source": [
    "\n",
    "with open(\"../dataset/annotations.csv\", mode='r') as annotations:\n",
    "    reader = csv.reader(annotations, delimiter=',')\n",
    "    for files in reader:\n",
    "        print(files)\n",
    "\n",
    "\n",
    "\n",
    "#detector = Detector(face_model=\"retinaface\", au_model = )"
   ]
  },
  {
   "cell_type": "markdown",
   "metadata": {},
   "source": [
    "## Reflections\n",
    "### 1.\n",
    "\n",
    "\n",
    "### 2.\n",
    "* I would use backward feature elimination to determine which features yields the best performance increase / lowest performance decrease at the specified number of features. While it may be tempting to choose the AUs with the greatest mean difference between classes, these AUs may be intercorrelated, meaning that using more than one would may provide little to new information gain.\n",
    "* Having too many features can be a problem as the solution space becomes much larger and requires more data in order to train the model, otherwise possibly leading to overfitting, known as the curse of dimensionality."
   ]
  }
 ],
 "metadata": {
  "kernelspec": {
   "display_name": "Python 3",
   "language": "python",
   "name": "python3"
  },
  "language_info": {
   "codemirror_mode": {
    "name": "ipython",
    "version": 3
   },
   "file_extension": ".py",
   "mimetype": "text/x-python",
   "name": "python",
   "nbconvert_exporter": "python",
   "pygments_lexer": "ipython3",
   "version": "3.11.6"
  }
 },
 "nbformat": 4,
 "nbformat_minor": 2
}
