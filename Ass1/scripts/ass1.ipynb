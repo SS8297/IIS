{
 "cells": [
  {
   "cell_type": "markdown",
   "metadata": {},
   "source": [
    "# Assignment 1\n",
    "## Shuai Shao"
   ]
  },
  {
   "cell_type": "code",
   "execution_count": 1,
   "metadata": {},
   "outputs": [],
   "source": [
    "from feat import Detector\n",
    "from feat.plotting import imshow\n",
    "from IPython.display import Image\n",
    "import pandas as pd\n",
    "import cv2\n",
    "from pathlib import Path"
   ]
  },
  {
   "cell_type": "code",
   "execution_count": 33,
   "metadata": {},
   "outputs": [
    {
     "name": "stdout",
     "output_type": "stream",
     "text": [
      "                file   valence\n",
      "0          thumbs-up  positive\n",
      "1            sad-man  negative\n",
      "2              claws  negative\n",
      "3    laughing-couple  positive\n",
      "4         by-the-sea  negative\n",
      "5            arguing  negative\n",
      "6   enjoying-the-sun  positive\n",
      "7          piggyback  positive\n",
      "8           back-off  negative\n",
      "9          handshake  positive\n",
      "10            tablet  negative\n",
      "11         happy-man  positive\n",
      "12         sad-woman  negative\n",
      "13          business  positive\n",
      "14              pain  negative\n",
      "15          students  positive\n",
      "16             bills  negative\n",
      "17           bullied  negative\n",
      "18      disagreement  negative\n",
      "19      grandparents  positive\n"
     ]
    }
   ],
   "source": [
    "df = pd.read_csv(\"../dataset/annotations.csv\")\n",
    "#df[\"path\"] = list(map(lambda x: x.join(\".jpg\"), list(df.file)))\n",
    "print(df)"
   ]
  },
  {
   "cell_type": "code",
   "execution_count": 8,
   "metadata": {},
   "outputs": [],
   "source": [
    "detector = Detector(face_model=\"retinaface\", au_model = \"xgb\", emotion_model=\"resmasknet\")\n",
    "\n",
    "\n",
    "\n",
    "\n"
   ]
  },
  {
   "cell_type": "code",
   "execution_count": 38,
   "metadata": {},
   "outputs": [
    {
     "name": "stderr",
     "output_type": "stream",
     "text": [
      "100%|██████████| 1/1 [00:02<00:00,  2.30s/it]\n",
      "C:\\Users\\Shuai Shao\\AppData\\Local\\Temp\\ipykernel_22600\\2147124916.py:12: SettingWithCopyWarning: \n",
      "A value is trying to be set on a copy of a slice from a DataFrame.\n",
      "Try using .loc[row_indexer,col_indexer] = value instead\n",
      "\n",
      "See the caveats in the documentation: https://pandas.pydata.org/pandas-docs/stable/user_guide/indexing.html#returning-a-view-versus-a-copy\n",
      "  aus['file'] = name\n",
      "C:\\Users\\Shuai Shao\\AppData\\Local\\Temp\\ipykernel_22600\\2147124916.py:13: SettingWithCopyWarning: \n",
      "A value is trying to be set on a copy of a slice from a DataFrame.\n",
      "Try using .loc[row_indexer,col_indexer] = value instead\n",
      "\n",
      "See the caveats in the documentation: https://pandas.pydata.org/pandas-docs/stable/user_guide/indexing.html#returning-a-view-versus-a-copy\n",
      "  aus['face'] = range(len(aus))\n"
     ]
    },
    {
     "name": "stdout",
     "output_type": "stream",
     "text": [
      "       AU01     AU02     AU04      AU05      AU06  AU07      AU09      AU10  \\\n",
      "0  0.517492  0.22733  0.24347  0.725215  0.070471   0.0  0.133483  0.004141   \n",
      "\n",
      "   AU11      AU12  ...      AU17  AU20      AU23      AU24     AU25      AU26  \\\n",
      "0   1.0  0.079265  ...  0.283976   1.0  0.329292  0.070884  0.99722  0.462353   \n",
      "\n",
      "       AU28      AU43      file  face  \n",
      "0  0.057802  0.048005  back-off     0  \n",
      "\n",
      "[1 rows x 22 columns]\n",
      "thumbs-up\n",
      "sad-man\n",
      "claws\n",
      "laughing-couple\n",
      "by-the-sea\n",
      "arguing\n",
      "enjoying-the-sun\n",
      "piggyback\n",
      "back-off\n",
      "handshake\n",
      "tablet\n",
      "happy-man\n",
      "sad-woman\n",
      "business\n",
      "pain\n",
      "students\n",
      "bills\n",
      "bullied\n",
      "disagreement\n",
      "grandparents\n"
     ]
    },
    {
     "name": "stderr",
     "output_type": "stream",
     "text": [
      "100%|██████████| 1/1 [00:02<00:00,  2.22s/it]\n",
      "C:\\Users\\Shuai Shao\\AppData\\Local\\Temp\\ipykernel_22600\\2147124916.py:12: SettingWithCopyWarning: \n",
      "A value is trying to be set on a copy of a slice from a DataFrame.\n",
      "Try using .loc[row_indexer,col_indexer] = value instead\n",
      "\n",
      "See the caveats in the documentation: https://pandas.pydata.org/pandas-docs/stable/user_guide/indexing.html#returning-a-view-versus-a-copy\n",
      "  aus['file'] = name\n",
      "C:\\Users\\Shuai Shao\\AppData\\Local\\Temp\\ipykernel_22600\\2147124916.py:13: SettingWithCopyWarning: \n",
      "A value is trying to be set on a copy of a slice from a DataFrame.\n",
      "Try using .loc[row_indexer,col_indexer] = value instead\n",
      "\n",
      "See the caveats in the documentation: https://pandas.pydata.org/pandas-docs/stable/user_guide/indexing.html#returning-a-view-versus-a-copy\n",
      "  aus['face'] = range(len(aus))\n"
     ]
    },
    {
     "name": "stdout",
     "output_type": "stream",
     "text": [
      "       AU01      AU02      AU04      AU05      AU06  AU07      AU09      AU10  \\\n",
      "0  0.292465  0.432277  0.175178  0.229799  0.950113   1.0  0.580514  0.990095   \n",
      "\n",
      "   AU11      AU12  ...      AU17  AU20      AU23      AU24      AU25  \\\n",
      "0   0.0  0.987156  ...  0.125573   1.0  0.045834  0.005221  0.999958   \n",
      "\n",
      "       AU26     AU28      AU43       file  face  \n",
      "0  0.329711  0.01957  0.277995  thumbs-up     0  \n",
      "\n",
      "[1 rows x 22 columns]\n"
     ]
    },
    {
     "name": "stderr",
     "output_type": "stream",
     "text": [
      "100%|██████████| 1/1 [00:02<00:00,  2.09s/it]\n",
      "C:\\Users\\Shuai Shao\\AppData\\Local\\Temp\\ipykernel_22600\\2147124916.py:12: SettingWithCopyWarning: \n",
      "A value is trying to be set on a copy of a slice from a DataFrame.\n",
      "Try using .loc[row_indexer,col_indexer] = value instead\n",
      "\n",
      "See the caveats in the documentation: https://pandas.pydata.org/pandas-docs/stable/user_guide/indexing.html#returning-a-view-versus-a-copy\n",
      "  aus['file'] = name\n",
      "C:\\Users\\Shuai Shao\\AppData\\Local\\Temp\\ipykernel_22600\\2147124916.py:13: SettingWithCopyWarning: \n",
      "A value is trying to be set on a copy of a slice from a DataFrame.\n",
      "Try using .loc[row_indexer,col_indexer] = value instead\n",
      "\n",
      "See the caveats in the documentation: https://pandas.pydata.org/pandas-docs/stable/user_guide/indexing.html#returning-a-view-versus-a-copy\n",
      "  aus['face'] = range(len(aus))\n"
     ]
    },
    {
     "name": "stdout",
     "output_type": "stream",
     "text": [
      "       AU01     AU02      AU04      AU05      AU06  AU07      AU09      AU10  \\\n",
      "0  0.652417  0.41706  0.224957  0.483308  0.271612   1.0  0.285886  0.043309   \n",
      "\n",
      "   AU11      AU12  ...      AU17  AU20      AU23      AU24      AU25  \\\n",
      "0   0.0  0.341297  ...  0.443356   0.0  0.272489  0.564758  0.655353   \n",
      "\n",
      "       AU26      AU28      AU43     file  face  \n",
      "0  0.474714  0.101626  0.359562  sad-man     0  \n",
      "\n",
      "[1 rows x 22 columns]\n"
     ]
    },
    {
     "name": "stderr",
     "output_type": "stream",
     "text": [
      "100%|██████████| 1/1 [00:02<00:00,  2.14s/it]\n",
      "C:\\Users\\Shuai Shao\\AppData\\Local\\Temp\\ipykernel_22600\\2147124916.py:12: SettingWithCopyWarning: \n",
      "A value is trying to be set on a copy of a slice from a DataFrame.\n",
      "Try using .loc[row_indexer,col_indexer] = value instead\n",
      "\n",
      "See the caveats in the documentation: https://pandas.pydata.org/pandas-docs/stable/user_guide/indexing.html#returning-a-view-versus-a-copy\n",
      "  aus['file'] = name\n",
      "C:\\Users\\Shuai Shao\\AppData\\Local\\Temp\\ipykernel_22600\\2147124916.py:13: SettingWithCopyWarning: \n",
      "A value is trying to be set on a copy of a slice from a DataFrame.\n",
      "Try using .loc[row_indexer,col_indexer] = value instead\n",
      "\n",
      "See the caveats in the documentation: https://pandas.pydata.org/pandas-docs/stable/user_guide/indexing.html#returning-a-view-versus-a-copy\n",
      "  aus['face'] = range(len(aus))\n"
     ]
    },
    {
     "name": "stdout",
     "output_type": "stream",
     "text": [
      "       AU01      AU02      AU04      AU05      AU06  AU07     AU09      AU10  \\\n",
      "0  0.332971  0.105001  0.931827  0.298775  0.781315   1.0  0.79263  0.999133   \n",
      "\n",
      "   AU11      AU12  ...      AU17  AU20      AU23      AU24      AU25  \\\n",
      "0   1.0  0.735582  ...  0.234097   1.0  0.361314  0.007615  0.999654   \n",
      "\n",
      "       AU26      AU28      AU43   file  face  \n",
      "0  0.871011  0.092441  0.682105  claws     0  \n",
      "\n",
      "[1 rows x 22 columns]\n"
     ]
    },
    {
     "name": "stderr",
     "output_type": "stream",
     "text": [
      "100%|██████████| 1/1 [00:02<00:00,  2.92s/it]\n",
      "C:\\Users\\Shuai Shao\\AppData\\Local\\Temp\\ipykernel_22600\\2147124916.py:12: SettingWithCopyWarning: \n",
      "A value is trying to be set on a copy of a slice from a DataFrame.\n",
      "Try using .loc[row_indexer,col_indexer] = value instead\n",
      "\n",
      "See the caveats in the documentation: https://pandas.pydata.org/pandas-docs/stable/user_guide/indexing.html#returning-a-view-versus-a-copy\n",
      "  aus['file'] = name\n",
      "C:\\Users\\Shuai Shao\\AppData\\Local\\Temp\\ipykernel_22600\\2147124916.py:13: SettingWithCopyWarning: \n",
      "A value is trying to be set on a copy of a slice from a DataFrame.\n",
      "Try using .loc[row_indexer,col_indexer] = value instead\n",
      "\n",
      "See the caveats in the documentation: https://pandas.pydata.org/pandas-docs/stable/user_guide/indexing.html#returning-a-view-versus-a-copy\n",
      "  aus['face'] = range(len(aus))\n"
     ]
    },
    {
     "name": "stdout",
     "output_type": "stream",
     "text": [
      "       AU01      AU02      AU04      AU05      AU06  AU07      AU09      AU10  \\\n",
      "0  0.518089  0.523467  0.454088  0.320439  0.904148   1.0  0.566153  0.633983   \n",
      "1  0.520513  0.187610  0.607923  0.309339  0.332833   0.0  0.643051  0.005804   \n",
      "2  0.711365  0.580891  0.488883  0.305874  0.269983   0.0  0.428345  0.166996   \n",
      "\n",
      "   AU11      AU12  ...      AU17  AU20      AU23      AU24      AU25  \\\n",
      "0   1.0  0.925881  ...  0.415429   1.0  0.201725  0.294767  0.944771   \n",
      "1   0.0  0.150359  ...  0.495863   1.0  0.718376  0.606470  0.525063   \n",
      "2   1.0  0.225459  ...  0.330331   1.0  0.228051  0.179151  0.997935   \n",
      "\n",
      "       AU26      AU28      AU43             file  face  \n",
      "0  0.466538  0.194750  0.755650  laughing-couple     0  \n",
      "1  0.431198  0.784799  0.217377  laughing-couple     1  \n",
      "2  0.401450  0.124445  0.898972  laughing-couple     2  \n",
      "\n",
      "[3 rows x 22 columns]\n"
     ]
    },
    {
     "name": "stderr",
     "output_type": "stream",
     "text": [
      "100%|██████████| 1/1 [00:02<00:00,  2.50s/it]\n",
      "C:\\Users\\Shuai Shao\\AppData\\Local\\Temp\\ipykernel_22600\\2147124916.py:12: SettingWithCopyWarning: \n",
      "A value is trying to be set on a copy of a slice from a DataFrame.\n",
      "Try using .loc[row_indexer,col_indexer] = value instead\n",
      "\n",
      "See the caveats in the documentation: https://pandas.pydata.org/pandas-docs/stable/user_guide/indexing.html#returning-a-view-versus-a-copy\n",
      "  aus['file'] = name\n",
      "C:\\Users\\Shuai Shao\\AppData\\Local\\Temp\\ipykernel_22600\\2147124916.py:13: SettingWithCopyWarning: \n",
      "A value is trying to be set on a copy of a slice from a DataFrame.\n",
      "Try using .loc[row_indexer,col_indexer] = value instead\n",
      "\n",
      "See the caveats in the documentation: https://pandas.pydata.org/pandas-docs/stable/user_guide/indexing.html#returning-a-view-versus-a-copy\n",
      "  aus['face'] = range(len(aus))\n"
     ]
    },
    {
     "name": "stdout",
     "output_type": "stream",
     "text": [
      "       AU01      AU02      AU04      AU05      AU06  AU07      AU09      AU10  \\\n",
      "0  0.402138  0.205589  0.701418  0.257941  0.180494   0.0  0.400779  0.000825   \n",
      "1  0.680756  0.136374  0.665335  0.288808  0.099413   0.0  0.467012  0.001301   \n",
      "\n",
      "   AU11      AU12  ...      AU17  AU20      AU23      AU24      AU25  \\\n",
      "0   0.0  0.065883  ...  0.381293   1.0  0.510105  0.622857  0.602756   \n",
      "1   1.0  0.058676  ...  0.392793   0.0  0.736817  0.466384  0.816095   \n",
      "\n",
      "       AU26      AU28      AU43        file  face  \n",
      "0  0.330356  0.249349  0.506654  by-the-sea     0  \n",
      "1  0.330219  0.164642  0.441985  by-the-sea     1  \n",
      "\n",
      "[2 rows x 22 columns]\n"
     ]
    },
    {
     "name": "stderr",
     "output_type": "stream",
     "text": [
      "100%|██████████| 1/1 [00:02<00:00,  2.44s/it]\n",
      "C:\\Users\\Shuai Shao\\AppData\\Local\\Temp\\ipykernel_22600\\2147124916.py:12: SettingWithCopyWarning: \n",
      "A value is trying to be set on a copy of a slice from a DataFrame.\n",
      "Try using .loc[row_indexer,col_indexer] = value instead\n",
      "\n",
      "See the caveats in the documentation: https://pandas.pydata.org/pandas-docs/stable/user_guide/indexing.html#returning-a-view-versus-a-copy\n",
      "  aus['file'] = name\n",
      "C:\\Users\\Shuai Shao\\AppData\\Local\\Temp\\ipykernel_22600\\2147124916.py:13: SettingWithCopyWarning: \n",
      "A value is trying to be set on a copy of a slice from a DataFrame.\n",
      "Try using .loc[row_indexer,col_indexer] = value instead\n",
      "\n",
      "See the caveats in the documentation: https://pandas.pydata.org/pandas-docs/stable/user_guide/indexing.html#returning-a-view-versus-a-copy\n",
      "  aus['face'] = range(len(aus))\n"
     ]
    },
    {
     "name": "stdout",
     "output_type": "stream",
     "text": [
      "       AU01      AU02      AU04      AU05      AU06  AU07      AU09      AU10  \\\n",
      "0  0.151386  0.140141  0.354548  0.361352  0.102333   0.0  0.181343  0.177283   \n",
      "1  0.389003  0.127074  0.843135  0.459386  0.061933   0.0  0.201016  0.000652   \n",
      "\n",
      "   AU11      AU12  ...      AU17  AU20      AU23      AU24      AU25  \\\n",
      "0   1.0  0.073802  ...  0.373146   1.0  0.649485  0.655969  0.043879   \n",
      "1   0.0  0.011079  ...  0.470959   0.0  0.294490  0.476791  0.003804   \n",
      "\n",
      "       AU26      AU28      AU43     file  face  \n",
      "0  0.107753  0.128440  0.060353  arguing     0  \n",
      "1  0.232277  0.903519  0.051893  arguing     1  \n",
      "\n",
      "[2 rows x 22 columns]\n"
     ]
    },
    {
     "name": "stderr",
     "output_type": "stream",
     "text": [
      "100%|██████████| 1/1 [00:02<00:00,  2.07s/it]\n",
      "C:\\Users\\Shuai Shao\\AppData\\Local\\Temp\\ipykernel_22600\\2147124916.py:12: SettingWithCopyWarning: \n",
      "A value is trying to be set on a copy of a slice from a DataFrame.\n",
      "Try using .loc[row_indexer,col_indexer] = value instead\n",
      "\n",
      "See the caveats in the documentation: https://pandas.pydata.org/pandas-docs/stable/user_guide/indexing.html#returning-a-view-versus-a-copy\n",
      "  aus['file'] = name\n",
      "C:\\Users\\Shuai Shao\\AppData\\Local\\Temp\\ipykernel_22600\\2147124916.py:13: SettingWithCopyWarning: \n",
      "A value is trying to be set on a copy of a slice from a DataFrame.\n",
      "Try using .loc[row_indexer,col_indexer] = value instead\n",
      "\n",
      "See the caveats in the documentation: https://pandas.pydata.org/pandas-docs/stable/user_guide/indexing.html#returning-a-view-versus-a-copy\n",
      "  aus['face'] = range(len(aus))\n"
     ]
    },
    {
     "name": "stdout",
     "output_type": "stream",
     "text": [
      "       AU01      AU02      AU04      AU05      AU06  AU07      AU09    AU10  \\\n",
      "0  0.421177  0.421142  0.206989  0.336657  0.721035   1.0  0.375257  0.6903   \n",
      "\n",
      "   AU11      AU12  ...      AU17  AU20      AU23      AU24      AU25  \\\n",
      "0   1.0  0.698816  ...  0.574821   0.0  0.352477  0.590989  0.771172   \n",
      "\n",
      "       AU26      AU28      AU43              file  face  \n",
      "0  0.419299  0.080924  0.852011  enjoying-the-sun     0  \n",
      "\n",
      "[1 rows x 22 columns]\n"
     ]
    },
    {
     "name": "stderr",
     "output_type": "stream",
     "text": [
      "100%|██████████| 1/1 [00:02<00:00,  2.42s/it]\n",
      "C:\\Users\\Shuai Shao\\AppData\\Local\\Temp\\ipykernel_22600\\2147124916.py:12: SettingWithCopyWarning: \n",
      "A value is trying to be set on a copy of a slice from a DataFrame.\n",
      "Try using .loc[row_indexer,col_indexer] = value instead\n",
      "\n",
      "See the caveats in the documentation: https://pandas.pydata.org/pandas-docs/stable/user_guide/indexing.html#returning-a-view-versus-a-copy\n",
      "  aus['file'] = name\n",
      "C:\\Users\\Shuai Shao\\AppData\\Local\\Temp\\ipykernel_22600\\2147124916.py:13: SettingWithCopyWarning: \n",
      "A value is trying to be set on a copy of a slice from a DataFrame.\n",
      "Try using .loc[row_indexer,col_indexer] = value instead\n",
      "\n",
      "See the caveats in the documentation: https://pandas.pydata.org/pandas-docs/stable/user_guide/indexing.html#returning-a-view-versus-a-copy\n",
      "  aus['face'] = range(len(aus))\n"
     ]
    },
    {
     "name": "stdout",
     "output_type": "stream",
     "text": [
      "       AU01      AU02      AU04      AU05      AU06  AU07      AU09      AU10  \\\n",
      "0  0.583144  0.163220  0.601647  0.316644  0.774051   1.0  0.526625  0.625722   \n",
      "1  0.351272  0.449598  0.333398  0.253416  0.710987   1.0  0.485733  0.991723   \n",
      "\n",
      "   AU11      AU12  ...      AU17  AU20      AU23      AU24      AU25  \\\n",
      "0   1.0  0.716529  ...  0.320395   1.0  0.212143  0.012461  0.999862   \n",
      "1   1.0  0.767143  ...  0.196830   1.0  0.298105  0.038459  0.999988   \n",
      "\n",
      "       AU26      AU28      AU43       file  face  \n",
      "0  0.656287  0.040424  0.301196  piggyback     0  \n",
      "1  0.289953  0.223425  0.833574  piggyback     1  \n",
      "\n",
      "[2 rows x 22 columns]\n"
     ]
    },
    {
     "name": "stderr",
     "output_type": "stream",
     "text": [
      "100%|██████████| 1/1 [00:02<00:00,  2.10s/it]\n",
      "C:\\Users\\Shuai Shao\\AppData\\Local\\Temp\\ipykernel_22600\\2147124916.py:12: SettingWithCopyWarning: \n",
      "A value is trying to be set on a copy of a slice from a DataFrame.\n",
      "Try using .loc[row_indexer,col_indexer] = value instead\n",
      "\n",
      "See the caveats in the documentation: https://pandas.pydata.org/pandas-docs/stable/user_guide/indexing.html#returning-a-view-versus-a-copy\n",
      "  aus['file'] = name\n",
      "C:\\Users\\Shuai Shao\\AppData\\Local\\Temp\\ipykernel_22600\\2147124916.py:13: SettingWithCopyWarning: \n",
      "A value is trying to be set on a copy of a slice from a DataFrame.\n",
      "Try using .loc[row_indexer,col_indexer] = value instead\n",
      "\n",
      "See the caveats in the documentation: https://pandas.pydata.org/pandas-docs/stable/user_guide/indexing.html#returning-a-view-versus-a-copy\n",
      "  aus['face'] = range(len(aus))\n"
     ]
    },
    {
     "name": "stdout",
     "output_type": "stream",
     "text": [
      "       AU01     AU02     AU04      AU05      AU06  AU07      AU09      AU10  \\\n",
      "0  0.517492  0.22733  0.24347  0.725215  0.070471   0.0  0.133483  0.004141   \n",
      "\n",
      "   AU11      AU12  ...      AU17  AU20      AU23      AU24     AU25      AU26  \\\n",
      "0   1.0  0.079265  ...  0.283976   1.0  0.329292  0.070884  0.99722  0.462353   \n",
      "\n",
      "       AU28      AU43      file  face  \n",
      "0  0.057802  0.048005  back-off     0  \n",
      "\n",
      "[1 rows x 22 columns]\n"
     ]
    },
    {
     "name": "stderr",
     "output_type": "stream",
     "text": [
      "100%|██████████| 1/1 [00:02<00:00,  2.99s/it]\n",
      "C:\\Users\\Shuai Shao\\AppData\\Local\\Temp\\ipykernel_22600\\2147124916.py:12: SettingWithCopyWarning: \n",
      "A value is trying to be set on a copy of a slice from a DataFrame.\n",
      "Try using .loc[row_indexer,col_indexer] = value instead\n",
      "\n",
      "See the caveats in the documentation: https://pandas.pydata.org/pandas-docs/stable/user_guide/indexing.html#returning-a-view-versus-a-copy\n",
      "  aus['file'] = name\n",
      "C:\\Users\\Shuai Shao\\AppData\\Local\\Temp\\ipykernel_22600\\2147124916.py:13: SettingWithCopyWarning: \n",
      "A value is trying to be set on a copy of a slice from a DataFrame.\n",
      "Try using .loc[row_indexer,col_indexer] = value instead\n",
      "\n",
      "See the caveats in the documentation: https://pandas.pydata.org/pandas-docs/stable/user_guide/indexing.html#returning-a-view-versus-a-copy\n",
      "  aus['face'] = range(len(aus))\n"
     ]
    },
    {
     "name": "stdout",
     "output_type": "stream",
     "text": [
      "       AU01      AU02      AU04      AU05      AU06  AU07      AU09      AU10  \\\n",
      "0  0.436885  0.370661  0.406362  0.279268  0.841304   1.0  0.584719  0.926104   \n",
      "1  0.269742  0.213920  0.332165  0.277158  0.804940   1.0  0.605116  0.972949   \n",
      "2  0.552389  0.547241  0.604368  0.276909  0.173357   0.0  0.332328  0.515557   \n",
      "\n",
      "   AU11      AU12  ...      AU17  AU20      AU23      AU24      AU25  \\\n",
      "0   1.0  0.974148  ...  0.166898   1.0  0.113409  0.013947  0.999931   \n",
      "1   0.0  0.933897  ...  0.403186   1.0  0.332260  0.469901  0.999866   \n",
      "2   0.0  0.089948  ...  0.467244   1.0  0.614726  0.314096  0.706425   \n",
      "\n",
      "       AU26      AU28      AU43       file  face  \n",
      "0  0.392121  0.076828  0.138771  handshake     0  \n",
      "1  0.704211  0.499006  0.886943  handshake     1  \n",
      "2  0.580606  0.226757  0.891228  handshake     2  \n",
      "\n",
      "[3 rows x 22 columns]\n"
     ]
    },
    {
     "name": "stderr",
     "output_type": "stream",
     "text": [
      "100%|██████████| 1/1 [00:02<00:00,  2.63s/it]\n",
      "C:\\Users\\Shuai Shao\\AppData\\Local\\Temp\\ipykernel_22600\\2147124916.py:12: SettingWithCopyWarning: \n",
      "A value is trying to be set on a copy of a slice from a DataFrame.\n",
      "Try using .loc[row_indexer,col_indexer] = value instead\n",
      "\n",
      "See the caveats in the documentation: https://pandas.pydata.org/pandas-docs/stable/user_guide/indexing.html#returning-a-view-versus-a-copy\n",
      "  aus['file'] = name\n",
      "C:\\Users\\Shuai Shao\\AppData\\Local\\Temp\\ipykernel_22600\\2147124916.py:13: SettingWithCopyWarning: \n",
      "A value is trying to be set on a copy of a slice from a DataFrame.\n",
      "Try using .loc[row_indexer,col_indexer] = value instead\n",
      "\n",
      "See the caveats in the documentation: https://pandas.pydata.org/pandas-docs/stable/user_guide/indexing.html#returning-a-view-versus-a-copy\n",
      "  aus['face'] = range(len(aus))\n"
     ]
    },
    {
     "name": "stdout",
     "output_type": "stream",
     "text": [
      "       AU01      AU02      AU04      AU05      AU06  AU07      AU09      AU10  \\\n",
      "0  0.334787  0.096887  0.570504  0.324029  0.085213   0.0  0.199524  0.001715   \n",
      "\n",
      "   AU11      AU12  ...      AU17  AU20      AU23     AU24      AU25      AU26  \\\n",
      "0   1.0  0.020411  ...  0.494784   0.0  0.229985  0.62165  0.031695  0.192747   \n",
      "\n",
      "       AU28     AU43    file  face  \n",
      "0  0.224347  0.40865  tablet     0  \n",
      "\n",
      "[1 rows x 22 columns]\n"
     ]
    },
    {
     "name": "stderr",
     "output_type": "stream",
     "text": [
      "100%|██████████| 1/1 [00:02<00:00,  2.66s/it]\n",
      "C:\\Users\\Shuai Shao\\AppData\\Local\\Temp\\ipykernel_22600\\2147124916.py:12: SettingWithCopyWarning: \n",
      "A value is trying to be set on a copy of a slice from a DataFrame.\n",
      "Try using .loc[row_indexer,col_indexer] = value instead\n",
      "\n",
      "See the caveats in the documentation: https://pandas.pydata.org/pandas-docs/stable/user_guide/indexing.html#returning-a-view-versus-a-copy\n",
      "  aus['file'] = name\n",
      "C:\\Users\\Shuai Shao\\AppData\\Local\\Temp\\ipykernel_22600\\2147124916.py:13: SettingWithCopyWarning: \n",
      "A value is trying to be set on a copy of a slice from a DataFrame.\n",
      "Try using .loc[row_indexer,col_indexer] = value instead\n",
      "\n",
      "See the caveats in the documentation: https://pandas.pydata.org/pandas-docs/stable/user_guide/indexing.html#returning-a-view-versus-a-copy\n",
      "  aus['face'] = range(len(aus))\n"
     ]
    },
    {
     "name": "stdout",
     "output_type": "stream",
     "text": [
      "      AU01      AU02      AU04      AU05      AU06  AU07      AU09      AU10  \\\n",
      "0  0.48904  0.398962  0.370133  0.274994  0.919087   1.0  0.516907  0.989414   \n",
      "\n",
      "   AU11      AU12  ...      AU17  AU20      AU23     AU24      AU25      AU26  \\\n",
      "0   1.0  0.976981  ...  0.335825   1.0  0.140261  0.17898  0.999896  0.580982   \n",
      "\n",
      "       AU28      AU43       file  face  \n",
      "0  0.083334  0.475268  happy-man     0  \n",
      "\n",
      "[1 rows x 22 columns]\n"
     ]
    },
    {
     "name": "stderr",
     "output_type": "stream",
     "text": [
      "100%|██████████| 1/1 [00:02<00:00,  2.20s/it]\n",
      "C:\\Users\\Shuai Shao\\AppData\\Local\\Temp\\ipykernel_22600\\2147124916.py:12: SettingWithCopyWarning: \n",
      "A value is trying to be set on a copy of a slice from a DataFrame.\n",
      "Try using .loc[row_indexer,col_indexer] = value instead\n",
      "\n",
      "See the caveats in the documentation: https://pandas.pydata.org/pandas-docs/stable/user_guide/indexing.html#returning-a-view-versus-a-copy\n",
      "  aus['file'] = name\n",
      "C:\\Users\\Shuai Shao\\AppData\\Local\\Temp\\ipykernel_22600\\2147124916.py:13: SettingWithCopyWarning: \n",
      "A value is trying to be set on a copy of a slice from a DataFrame.\n",
      "Try using .loc[row_indexer,col_indexer] = value instead\n",
      "\n",
      "See the caveats in the documentation: https://pandas.pydata.org/pandas-docs/stable/user_guide/indexing.html#returning-a-view-versus-a-copy\n",
      "  aus['face'] = range(len(aus))\n"
     ]
    },
    {
     "name": "stdout",
     "output_type": "stream",
     "text": [
      "       AU01      AU02      AU04      AU05      AU06  AU07      AU09      AU10  \\\n",
      "0  0.631742  0.633063  0.381163  0.315141  0.068971   0.0  0.298669  0.000309   \n",
      "\n",
      "   AU11      AU12  ...      AU17  AU20      AU23      AU24      AU25  \\\n",
      "0   1.0  0.020739  ...  0.377752   0.0  0.335115  0.310883  0.387382   \n",
      "\n",
      "       AU26      AU28      AU43       file  face  \n",
      "0  0.249791  0.166794  0.900724  sad-woman     0  \n",
      "\n",
      "[1 rows x 22 columns]\n"
     ]
    },
    {
     "name": "stderr",
     "output_type": "stream",
     "text": [
      "100%|██████████| 1/1 [00:01<00:00,  1.98s/it]\n",
      "C:\\Users\\Shuai Shao\\AppData\\Local\\Temp\\ipykernel_22600\\2147124916.py:12: SettingWithCopyWarning: \n",
      "A value is trying to be set on a copy of a slice from a DataFrame.\n",
      "Try using .loc[row_indexer,col_indexer] = value instead\n",
      "\n",
      "See the caveats in the documentation: https://pandas.pydata.org/pandas-docs/stable/user_guide/indexing.html#returning-a-view-versus-a-copy\n",
      "  aus['file'] = name\n",
      "C:\\Users\\Shuai Shao\\AppData\\Local\\Temp\\ipykernel_22600\\2147124916.py:13: SettingWithCopyWarning: \n",
      "A value is trying to be set on a copy of a slice from a DataFrame.\n",
      "Try using .loc[row_indexer,col_indexer] = value instead\n",
      "\n",
      "See the caveats in the documentation: https://pandas.pydata.org/pandas-docs/stable/user_guide/indexing.html#returning-a-view-versus-a-copy\n",
      "  aus['face'] = range(len(aus))\n"
     ]
    },
    {
     "name": "stdout",
     "output_type": "stream",
     "text": [
      "       AU01      AU02      AU04      AU05      AU06  AU07      AU09      AU10  \\\n",
      "0  0.276191  0.152989  0.362165  0.261409  0.807749   1.0  0.445573  0.480218   \n",
      "\n",
      "   AU11      AU12  ...      AU17  AU20      AU23      AU24      AU25  \\\n",
      "0   0.0  0.704392  ...  0.295244   1.0  0.281842  0.094979  0.996656   \n",
      "\n",
      "       AU26      AU28      AU43      file  face  \n",
      "0  0.680923  0.016677  0.304808  business     0  \n",
      "\n",
      "[1 rows x 22 columns]\n"
     ]
    },
    {
     "name": "stderr",
     "output_type": "stream",
     "text": [
      "100%|██████████| 1/1 [00:01<00:00,  1.97s/it]\n",
      "C:\\Users\\Shuai Shao\\AppData\\Local\\Temp\\ipykernel_22600\\2147124916.py:12: SettingWithCopyWarning: \n",
      "A value is trying to be set on a copy of a slice from a DataFrame.\n",
      "Try using .loc[row_indexer,col_indexer] = value instead\n",
      "\n",
      "See the caveats in the documentation: https://pandas.pydata.org/pandas-docs/stable/user_guide/indexing.html#returning-a-view-versus-a-copy\n",
      "  aus['file'] = name\n",
      "C:\\Users\\Shuai Shao\\AppData\\Local\\Temp\\ipykernel_22600\\2147124916.py:13: SettingWithCopyWarning: \n",
      "A value is trying to be set on a copy of a slice from a DataFrame.\n",
      "Try using .loc[row_indexer,col_indexer] = value instead\n",
      "\n",
      "See the caveats in the documentation: https://pandas.pydata.org/pandas-docs/stable/user_guide/indexing.html#returning-a-view-versus-a-copy\n",
      "  aus['face'] = range(len(aus))\n"
     ]
    },
    {
     "name": "stdout",
     "output_type": "stream",
     "text": [
      "       AU01      AU02      AU04     AU05      AU06  AU07      AU09      AU10  \\\n",
      "0  0.372805  0.411601  0.407597  0.39275  0.666038   1.0  0.637629  0.778027   \n",
      "\n",
      "   AU11      AU12  ...      AU17  AU20      AU23      AU24      AU25     AU26  \\\n",
      "0   0.0  0.788445  ...  0.434838   0.0  0.404425  0.416495  0.233791  0.26717   \n",
      "\n",
      "       AU28      AU43  file  face  \n",
      "0  0.046506  0.829233  pain     0  \n",
      "\n",
      "[1 rows x 22 columns]\n"
     ]
    },
    {
     "name": "stderr",
     "output_type": "stream",
     "text": [
      "100%|██████████| 1/1 [00:03<00:00,  3.55s/it]\n",
      "C:\\Users\\Shuai Shao\\AppData\\Local\\Temp\\ipykernel_22600\\2147124916.py:12: SettingWithCopyWarning: \n",
      "A value is trying to be set on a copy of a slice from a DataFrame.\n",
      "Try using .loc[row_indexer,col_indexer] = value instead\n",
      "\n",
      "See the caveats in the documentation: https://pandas.pydata.org/pandas-docs/stable/user_guide/indexing.html#returning-a-view-versus-a-copy\n",
      "  aus['file'] = name\n",
      "C:\\Users\\Shuai Shao\\AppData\\Local\\Temp\\ipykernel_22600\\2147124916.py:13: SettingWithCopyWarning: \n",
      "A value is trying to be set on a copy of a slice from a DataFrame.\n",
      "Try using .loc[row_indexer,col_indexer] = value instead\n",
      "\n",
      "See the caveats in the documentation: https://pandas.pydata.org/pandas-docs/stable/user_guide/indexing.html#returning-a-view-versus-a-copy\n",
      "  aus['face'] = range(len(aus))\n"
     ]
    },
    {
     "name": "stdout",
     "output_type": "stream",
     "text": [
      "       AU01      AU02      AU04      AU05      AU06  AU07      AU09      AU10  \\\n",
      "0  0.555830  0.189979  0.686918  0.292108  0.366506   0.0  0.624464  0.020526   \n",
      "1  0.420112  0.189723  0.097076  0.353657  0.932503   1.0  0.605929  0.813971   \n",
      "2  0.391984  0.237785  0.334620  0.356639  0.644422   0.0  0.594735  0.605904   \n",
      "3  0.399040  0.129250  0.791166  0.299150  0.519061   1.0  0.469575  0.885957   \n",
      "\n",
      "   AU11      AU12  ...      AU17  AU20      AU23      AU24      AU25  \\\n",
      "0   0.0  0.070763  ...  0.500640   1.0  0.574035  0.135127  0.977249   \n",
      "1   0.0  0.967964  ...  0.105571   1.0  0.113151  0.007562  0.999948   \n",
      "2   1.0  0.682704  ...  0.310525   1.0  0.558159  0.082850  0.992271   \n",
      "3   0.0  0.377890  ...  0.360066   1.0  0.719024  0.036256  0.999405   \n",
      "\n",
      "       AU26      AU28      AU43      file  face  \n",
      "0  0.763821  0.201189  0.814093  students     0  \n",
      "1  0.671754  0.054136  0.044401  students     1  \n",
      "2  0.449361  0.063980  0.030155  students     2  \n",
      "3  0.786649  0.181800  0.788693  students     3  \n",
      "\n",
      "[4 rows x 22 columns]\n"
     ]
    },
    {
     "name": "stderr",
     "output_type": "stream",
     "text": [
      "100%|██████████| 1/1 [00:02<00:00,  2.13s/it]\n",
      "C:\\Users\\Shuai Shao\\AppData\\Local\\Temp\\ipykernel_22600\\2147124916.py:12: SettingWithCopyWarning: \n",
      "A value is trying to be set on a copy of a slice from a DataFrame.\n",
      "Try using .loc[row_indexer,col_indexer] = value instead\n",
      "\n",
      "See the caveats in the documentation: https://pandas.pydata.org/pandas-docs/stable/user_guide/indexing.html#returning-a-view-versus-a-copy\n",
      "  aus['file'] = name\n",
      "C:\\Users\\Shuai Shao\\AppData\\Local\\Temp\\ipykernel_22600\\2147124916.py:13: SettingWithCopyWarning: \n",
      "A value is trying to be set on a copy of a slice from a DataFrame.\n",
      "Try using .loc[row_indexer,col_indexer] = value instead\n",
      "\n",
      "See the caveats in the documentation: https://pandas.pydata.org/pandas-docs/stable/user_guide/indexing.html#returning-a-view-versus-a-copy\n",
      "  aus['face'] = range(len(aus))\n"
     ]
    },
    {
     "name": "stdout",
     "output_type": "stream",
     "text": [
      "      AU01      AU02      AU04      AU05      AU06  AU07      AU09      AU10  \\\n",
      "0  0.38868  0.197236  0.606729  0.231746  0.098091   0.0  0.286462  0.138269   \n",
      "\n",
      "   AU11      AU12  ...      AU17  AU20     AU23      AU24      AU25     AU26  \\\n",
      "0   0.0  0.076375  ...  0.323378   0.0  0.53857  0.609777  0.003652  0.16156   \n",
      "\n",
      "       AU28      AU43   file  face  \n",
      "0  0.128122  0.724551  bills     0  \n",
      "\n",
      "[1 rows x 22 columns]\n"
     ]
    },
    {
     "name": "stderr",
     "output_type": "stream",
     "text": [
      "100%|██████████| 1/1 [00:02<00:00,  2.58s/it]\n",
      "C:\\Users\\Shuai Shao\\AppData\\Local\\Temp\\ipykernel_22600\\2147124916.py:12: SettingWithCopyWarning: \n",
      "A value is trying to be set on a copy of a slice from a DataFrame.\n",
      "Try using .loc[row_indexer,col_indexer] = value instead\n",
      "\n",
      "See the caveats in the documentation: https://pandas.pydata.org/pandas-docs/stable/user_guide/indexing.html#returning-a-view-versus-a-copy\n",
      "  aus['file'] = name\n",
      "C:\\Users\\Shuai Shao\\AppData\\Local\\Temp\\ipykernel_22600\\2147124916.py:13: SettingWithCopyWarning: \n",
      "A value is trying to be set on a copy of a slice from a DataFrame.\n",
      "Try using .loc[row_indexer,col_indexer] = value instead\n",
      "\n",
      "See the caveats in the documentation: https://pandas.pydata.org/pandas-docs/stable/user_guide/indexing.html#returning-a-view-versus-a-copy\n",
      "  aus['face'] = range(len(aus))\n"
     ]
    },
    {
     "name": "stdout",
     "output_type": "stream",
     "text": [
      "       AU01      AU02      AU04      AU05      AU06  AU07      AU09      AU10  \\\n",
      "0  0.301577  0.185463  0.805095  0.480489  0.155029   0.0  0.134150  0.005832   \n",
      "1  0.415750  0.424653  0.189703  0.502299  0.080276   0.0  0.132577  0.021833   \n",
      "\n",
      "   AU11      AU12  ...      AU17  AU20      AU23      AU24      AU25  \\\n",
      "0   0.0  0.038572  ...  0.648216   0.0  0.439989  0.821037  0.088679   \n",
      "1   0.0  0.059203  ...  0.465896   0.0  0.717637  0.533676  0.015596   \n",
      "\n",
      "       AU26      AU28      AU43     file  face  \n",
      "0  0.045125  0.227330  0.035504  bullied     0  \n",
      "1  0.130202  0.179587  0.101071  bullied     1  \n",
      "\n",
      "[2 rows x 22 columns]\n"
     ]
    },
    {
     "name": "stderr",
     "output_type": "stream",
     "text": [
      "100%|██████████| 1/1 [00:03<00:00,  3.11s/it]\n",
      "C:\\Users\\Shuai Shao\\AppData\\Local\\Temp\\ipykernel_22600\\2147124916.py:12: SettingWithCopyWarning: \n",
      "A value is trying to be set on a copy of a slice from a DataFrame.\n",
      "Try using .loc[row_indexer,col_indexer] = value instead\n",
      "\n",
      "See the caveats in the documentation: https://pandas.pydata.org/pandas-docs/stable/user_guide/indexing.html#returning-a-view-versus-a-copy\n",
      "  aus['file'] = name\n",
      "C:\\Users\\Shuai Shao\\AppData\\Local\\Temp\\ipykernel_22600\\2147124916.py:13: SettingWithCopyWarning: \n",
      "A value is trying to be set on a copy of a slice from a DataFrame.\n",
      "Try using .loc[row_indexer,col_indexer] = value instead\n",
      "\n",
      "See the caveats in the documentation: https://pandas.pydata.org/pandas-docs/stable/user_guide/indexing.html#returning-a-view-versus-a-copy\n",
      "  aus['face'] = range(len(aus))\n"
     ]
    },
    {
     "name": "stdout",
     "output_type": "stream",
     "text": [
      "       AU01      AU02      AU04      AU05      AU06  AU07      AU09      AU10  \\\n",
      "0  0.348266  0.271851  0.289249  0.577633  0.096787   0.0  0.114005  0.011003   \n",
      "1  0.302074  0.239038  0.590965  0.216845  0.049979   0.0  0.189569  0.015603   \n",
      "2  0.458317  0.240075  0.126495  0.295747  0.071853   0.0  0.220087  0.230844   \n",
      "\n",
      "   AU11      AU12  ...      AU17  AU20      AU23      AU24      AU25  \\\n",
      "0   0.0  0.029945  ...  0.492295   0.0  0.437687  0.482573  0.064133   \n",
      "1   0.0  0.023931  ...  0.221122   0.0  0.287109  0.180640  0.967365   \n",
      "2   1.0  0.041507  ...  0.441875   1.0  0.538142  0.149729  0.945268   \n",
      "\n",
      "       AU26      AU28      AU43          file  face  \n",
      "0  0.103712  0.255633  0.033056  disagreement     0  \n",
      "1  0.727386  0.034110  0.128918  disagreement     1  \n",
      "2  0.493449  0.221965  0.033692  disagreement     2  \n",
      "\n",
      "[3 rows x 22 columns]\n"
     ]
    },
    {
     "name": "stderr",
     "output_type": "stream",
     "text": [
      "100%|██████████| 1/1 [00:02<00:00,  2.93s/it]"
     ]
    },
    {
     "name": "stdout",
     "output_type": "stream",
     "text": [
      "       AU01      AU02      AU04      AU05      AU06  AU07      AU09      AU10  \\\n",
      "0  0.264805  0.322456  0.309800  0.322348  0.634366   1.0  0.667120  0.167038   \n",
      "1  0.497441  0.268270  0.416279  0.220653  0.914461   1.0  0.773256  0.350736   \n",
      "2  0.467048  0.095630  0.875151  0.337699  0.092479   0.0  0.324306  0.002855   \n",
      "\n",
      "   AU11      AU12  ...      AU17  AU20      AU23      AU24      AU25  \\\n",
      "0   0.0  0.785027  ...  0.265023   1.0  0.315057  0.014834  0.999972   \n",
      "1   0.0  0.945459  ...  0.183925   1.0  0.199229  0.011019  0.999941   \n",
      "2   0.0  0.013731  ...  0.617463   0.0  0.743830  0.748477  0.469512   \n",
      "\n",
      "       AU26      AU28      AU43          file  face  \n",
      "0  0.585865  0.135921  0.916586  grandparents     0  \n",
      "1  0.804257  0.009645  0.277607  grandparents     1  \n",
      "2  0.765543  0.327428  0.638592  grandparents     2  \n",
      "\n",
      "[3 rows x 22 columns]\n",
      "[None, None, None, None, None, None, None, None, None, None, None, None, None, None, None, None, None, None, None, None]\n"
     ]
    },
    {
     "name": "stderr",
     "output_type": "stream",
     "text": [
      "\n",
      "C:\\Users\\Shuai Shao\\AppData\\Local\\Temp\\ipykernel_22600\\2147124916.py:12: SettingWithCopyWarning: \n",
      "A value is trying to be set on a copy of a slice from a DataFrame.\n",
      "Try using .loc[row_indexer,col_indexer] = value instead\n",
      "\n",
      "See the caveats in the documentation: https://pandas.pydata.org/pandas-docs/stable/user_guide/indexing.html#returning-a-view-versus-a-copy\n",
      "  aus['file'] = name\n",
      "C:\\Users\\Shuai Shao\\AppData\\Local\\Temp\\ipykernel_22600\\2147124916.py:13: SettingWithCopyWarning: \n",
      "A value is trying to be set on a copy of a slice from a DataFrame.\n",
      "Try using .loc[row_indexer,col_indexer] = value instead\n",
      "\n",
      "See the caveats in the documentation: https://pandas.pydata.org/pandas-docs/stable/user_guide/indexing.html#returning-a-view-versus-a-copy\n",
      "  aus['face'] = range(len(aus))\n"
     ]
    }
   ],
   "source": [
    "\n",
    "all_aus = pd.DataFrame()\n",
    "\n",
    "\n",
    "\n",
    "def proc_image(path, detector, all_aus):\n",
    "\n",
    "    pred = detector.detect_image(path)\n",
    "\n",
    "    aus = pred.aus\n",
    "\n",
    "    name = Path(path).stem\n",
    "    aus['file'] = name\n",
    "    aus['face'] = range(len(aus))\n",
    "\n",
    "    if len(all_aus) < 1:\n",
    "        all_aus = aus\n",
    "    else:\n",
    "        all_aus.append(aus)\n",
    "\n",
    "    print(pd.DataFrame(aus))\n",
    "\n",
    "    fb = pred.faceboxes\n",
    "\n",
    "path=\"../dataset/images/back-off.jpg\"\n",
    "proc_image(path, detector, all_aus)\n",
    "for image in df['file']:\n",
    "    print(image)\n",
    "\n",
    "print(list(map(lambda y: proc_image(y, detector, all_aus), map(lambda x: f\"../dataset/images/{x}.jpg\", df['file']))))\n",
    "\n",
    "\n",
    "#aus.to_csv(\"processed/\" + name + \".csv\", index_label = 'face')\n"
   ]
  },
  {
   "cell_type": "markdown",
   "metadata": {},
   "source": [
    "## Reflections\n",
    "### 1.\n",
    "\n",
    "\n",
    "### 2.\n",
    "* I would use backward feature elimination to determine which features yields the best performance increase / lowest performance decrease at the specified number of features. While it may be tempting to choose the AUs with the greatest mean difference between classes, these AUs may be intercorrelated, meaning that using more than one would may provide little to new information gain.\n",
    "* Having too many features can be a problem as the solution space becomes much larger and requires more data in order to train the model, otherwise possibly leading to overfitting, known as the curse of dimensionality."
   ]
  }
 ],
 "metadata": {
  "kernelspec": {
   "display_name": "Python 3",
   "language": "python",
   "name": "python3"
  },
  "language_info": {
   "codemirror_mode": {
    "name": "ipython",
    "version": 3
   },
   "file_extension": ".py",
   "mimetype": "text/x-python",
   "name": "python",
   "nbconvert_exporter": "python",
   "pygments_lexer": "ipython3",
   "version": "3.11.6"
  }
 },
 "nbformat": 4,
 "nbformat_minor": 2
}
